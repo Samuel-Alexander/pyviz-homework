{
 "cells": [
  {
   "cell_type": "code",
   "execution_count": 375,
   "metadata": {},
   "outputs": [],
   "source": [
    "# imports\n",
    "import panel as pn\n",
    "pn.extension('plotly')\n",
    "import plotly.express as px\n",
    "import pandas as pd\n",
    "import hvplot.pandas\n",
    "import matplotlib.pyplot as plt\n",
    "from panel.interact import interact\n",
    "import os\n",
    "from pathlib import Path\n",
    "%matplotlib inline\n",
    "from dotenv import load_dotenv"
   ]
  },
  {
   "cell_type": "code",
   "execution_count": 376,
   "metadata": {},
   "outputs": [],
   "source": [
    "# Read the Mapbox API key\n",
    "load_dotenv()\n",
    "map_box_api = os.getenv(\"mapbox\")\n",
    "\n",
    "px.set_mapbox_access_token(map_box_api)"
   ]
  },
  {
   "cell_type": "markdown",
   "metadata": {},
   "source": [
    "# Import Data"
   ]
  },
  {
   "cell_type": "code",
   "execution_count": 377,
   "metadata": {},
   "outputs": [
    {
     "data": {
      "text/html": [
       "<div>\n",
       "<style scoped>\n",
       "    .dataframe tbody tr th:only-of-type {\n",
       "        vertical-align: middle;\n",
       "    }\n",
       "\n",
       "    .dataframe tbody tr th {\n",
       "        vertical-align: top;\n",
       "    }\n",
       "\n",
       "    .dataframe thead th {\n",
       "        text-align: right;\n",
       "    }\n",
       "</style>\n",
       "<table border=\"1\" class=\"dataframe\">\n",
       "  <thead>\n",
       "    <tr style=\"text-align: right;\">\n",
       "      <th></th>\n",
       "      <th>Neighborhood</th>\n",
       "      <th>Lat</th>\n",
       "      <th>Lon</th>\n",
       "    </tr>\n",
       "  </thead>\n",
       "  <tbody>\n",
       "    <tr>\n",
       "      <th>0</th>\n",
       "      <td>Alamo Square</td>\n",
       "      <td>37.791012</td>\n",
       "      <td>-122.402100</td>\n",
       "    </tr>\n",
       "    <tr>\n",
       "      <th>1</th>\n",
       "      <td>Anza Vista</td>\n",
       "      <td>37.779598</td>\n",
       "      <td>-122.443451</td>\n",
       "    </tr>\n",
       "    <tr>\n",
       "      <th>2</th>\n",
       "      <td>Bayview</td>\n",
       "      <td>37.734670</td>\n",
       "      <td>-122.401060</td>\n",
       "    </tr>\n",
       "    <tr>\n",
       "      <th>3</th>\n",
       "      <td>Bayview Heights</td>\n",
       "      <td>37.728740</td>\n",
       "      <td>-122.410980</td>\n",
       "    </tr>\n",
       "    <tr>\n",
       "      <th>4</th>\n",
       "      <td>Bernal Heights</td>\n",
       "      <td>37.728630</td>\n",
       "      <td>-122.443050</td>\n",
       "    </tr>\n",
       "  </tbody>\n",
       "</table>\n",
       "</div>"
      ],
      "text/plain": [
       "      Neighborhood        Lat         Lon\n",
       "0     Alamo Square  37.791012 -122.402100\n",
       "1       Anza Vista  37.779598 -122.443451\n",
       "2          Bayview  37.734670 -122.401060\n",
       "3  Bayview Heights  37.728740 -122.410980\n",
       "4   Bernal Heights  37.728630 -122.443050"
      ]
     },
     "execution_count": 377,
     "metadata": {},
     "output_type": "execute_result"
    }
   ],
   "source": [
    "# Import the necessary CSVs to Pandas DataFrames\n",
    "coordinates = pd.read_csv(Path(\"../Starter_Code/Data/neighborhoods_coordinates.csv\")).drop_duplicates()\n",
    "census = pd.read_csv(Path(\"../Starter_Code/Data/sfo_neighborhoods_census_data.csv\")).drop_duplicates()\n",
    "\n",
    "coordinates.head()\n",
    "#census.head()"
   ]
  },
  {
   "cell_type": "markdown",
   "metadata": {},
   "source": [
    "- - -"
   ]
  },
  {
   "cell_type": "markdown",
   "metadata": {},
   "source": [
    "## Panel Visualizations\n",
    "\n",
    "In this section, you will copy the code for each plot type from your analysis notebook and place it into separate functions that Panel can use to create panes for the dashboard. \n",
    "\n",
    "These functions will convert the plot object to a Panel pane.\n",
    "\n",
    "Be sure to include any DataFrame transformation/manipulation code required along with the plotting code.\n",
    "\n",
    "Return a Panel pane object from each function that can be used to build the dashboard.\n",
    "\n",
    "Note: Remove any `.show()` lines from the code. We want to return the plots instead of showing them. The Panel dashboard will then display the plots."
   ]
  },
  {
   "cell_type": "code",
   "execution_count": 378,
   "metadata": {},
   "outputs": [],
   "source": [
    "# Define Panel Visualization Functions\n",
    "def housing_units_per_year():\n",
    "    \"\"\"Housing Units Per Year.\"\"\"\n",
    "    housing_units_plot = census.hvplot.bar(\n",
    "        x=\"year\",\n",
    "        xlabel='Year',\n",
    "        y=\"housing_units\",\n",
    "        ylabel=\"Housing Units\",\n",
    "        title=\"Housing Units in San Francisco from 2010 to 2016\",\n",
    "        width=500,\n",
    "        ylim=(370000, 390000)\n",
    "    ).opts(yformatter=\"%.0f\")\n",
    "    \n",
    "    return housing_units_plot\n",
    "\n",
    "\n",
    "\n",
    "def average_gross_rent():\n",
    "    \"\"\"Average Gross Rent in San Francisco Per Year.\"\"\"\n",
    "    annual_data = census.groupby(\"year\").mean().reset_index() #create DF for annual data\n",
    "    avg_rent_plot = annual_data.hvplot.line(\n",
    "        x=\"year\",\n",
    "        xlabel='Year',\n",
    "        y=\"gross_rent\",\n",
    "        ylabel=\"Price per Square Foot\",\n",
    "        title=\"Average Gross Rent by Year\",\n",
    "        width=500,\n",
    "    ).opts(yformatter=\"%.0f\")\n",
    "    \n",
    "    return avg_rent_plot\n",
    "\n",
    "\n",
    "avg_sales = census.groupby(\"sale_price_sqr_foot\").mean().reset_index()\n",
    "def average_sales_price():\n",
    "    \"\"\"Average Sales Price Per Year.\"\"\"\n",
    "    avg_ann_sales_plot = annual_data.hvplot.line(\n",
    "        x=\"year\",\n",
    "        xlabel='Year',\n",
    "        y=\"sale_price_sqr_foot\",\n",
    "        ylabel=\"Price per Square Foot\",\n",
    "        title=\"Average Sale Price by Year\",\n",
    "        width=500,\n",
    "    ).opts(yformatter=\"%.0f\")\n",
    "    \n",
    "    return avg_ann_sales_plot   \n",
    "\n",
    "\n",
    "def average_price_by_neighborhood():\n",
    "    \"\"\"Average Prices by Neighborhood.\"\"\"\n",
    "    neighborhood_data = census.groupby([\"year\",\"neighborhood\"]).mean().reset_index() #create new DF for neighborhood data\n",
    "    neighborhood_sales_plot = neighborhood_data.hvplot.line(\n",
    "        x=\"year\",\n",
    "        xlabel='Year',\n",
    "        y=\"sale_price_sqr_foot\",\n",
    "        ylabel=\"Price per Square Foot\",\n",
    "        title= \"Average Price by Neighborhood\",\n",
    "        width=500,\n",
    "        groupby='neighborhood'\n",
    "    ).opts(yformatter=\"%.0f\")\n",
    "    \n",
    "    return neighborhood_sales_plot     \n",
    "\n",
    "\n",
    "def top_most_expensive_neighborhoods():\n",
    "    \"\"\"Top 10 Most Expensive Neighborhoods.\"\"\"\n",
    "    top_10 = census.groupby(\"neighborhood\").mean().sort_values(by=\"sale_price_sqr_foot\", ascending=False).head(10).reset_index()    \n",
    "    top_10_plot = top_10.hvplot.bar(\n",
    "        x=\"neighborhood\",\n",
    "        xlabel='Neighborhood',\n",
    "        y=\"sale_price_sqr_foot\",\n",
    "        ylabel=\"Price per Square Foot\",\n",
    "        title= \"Top 10 Most Expensive Neighborhoods in SFO\",\n",
    "        width=500,\n",
    "        rot=90\n",
    "    ).opts(yformatter=\"%.0f\")\n",
    "    \n",
    "    return top_10_plot     \n",
    "\n",
    "\n",
    "\n",
    "def most_expensive_neighborhoods_rent_sales():\n",
    "    \"\"\"Comparison of Rent and Sales Prices of Most Expensive Neighborhoods.\"\"\"        \n",
    "    top_10_rent_plot = neighborhood_data.hvplot.bar(\n",
    "        x='year',\n",
    "        xlabel='Years',\n",
    "        y=['gross_rent','sale_price_sqr_foot'],\n",
    "        ylabel=\"Num Housing Units\",\n",
    "        title= \"Comparison of Rent and Sales Prices of SFO Neighborhoods\",\n",
    "        width=500,\n",
    "        rot=90,\n",
    "        groupby='neighborhood'\n",
    "    ).opts(yformatter=\"%.0f\")\n",
    "    \n",
    "    return top_10_rent_plot \n",
    "    \n",
    "    \n",
    "def parallel_coordinates():\n",
    "    \"\"\"Parallel Coordinates Plot.\"\"\"\n",
    "    return px.parallel_coordinates(\n",
    "        top_10, \n",
    "        title='SFO Neighborhoods Parallel Coordinates Analysis',\n",
    "        color='sale_price_sqr_foot',\n",
    "        color_continuous_scale=px.colors.sequential.Aggrnyl,\n",
    "        width=1500\n",
    "    )\n",
    "\n",
    "def parallel_categories():\n",
    "    \"\"\"Parallel Categories Plot.\"\"\"\n",
    "    return px.parallel_categories(\n",
    "        top_10, \n",
    "        title='SFO Neighborhoods Parallel Categories Analysis',\n",
    "        color='sale_price_sqr_foot',\n",
    "        color_continuous_scale=px.colors.sequential.Aggrnyl,\n",
    "        width=1500\n",
    "    )\n",
    "\n",
    "def neighborhood_map():\n",
    "    \"\"\"Neighborhood Map.\"\"\"\n",
    "    neighborhood_map=pd.concat([coordinates,avg_sales], axis=1, sort=True).dropna()\n",
    "    neighborhood_map    \n",
    "    return px.scatter_mapbox(neighborhood_map,\n",
    "                             lat=\"Lat\",\n",
    "                             lon=\"Lon\",\n",
    "                             size='sale_price_sqr_foot',\n",
    "                             color='gross_rent',\n",
    "                             hover_name='Neighborhood',\n",
    "                             title='Average Sale Price Per Square Foot and Gross Rent in San Francisco',\n",
    "                             color_continuous_scale=px.colors.sequential.Aggrnyl,\n",
    "                             zoom=10,\n",
    "                            )\n",
    "\n",
    "\n",
    "def sunburst():\n",
    "    \"\"\"Sunburst Plot.\"\"\"\n",
    "    top_2010 = neighborhood_data.loc[neighborhood_data['year']==2010].sort_values(by=\"sale_price_sqr_foot\", ascending=False).head(10)\n",
    "    top_2011 = neighborhood_data.loc[neighborhood_data['year']==2011].sort_values(by=\"sale_price_sqr_foot\", ascending=False).head(10)\n",
    "    top_2012 = neighborhood_data.loc[neighborhood_data['year']==2012].sort_values(by=\"sale_price_sqr_foot\", ascending=False).head(10)\n",
    "    top_2013 = neighborhood_data.loc[neighborhood_data['year']==2013].sort_values(by=\"sale_price_sqr_foot\", ascending=False).head(10)\n",
    "    top_2014 = neighborhood_data.loc[neighborhood_data['year']==2014].sort_values(by=\"sale_price_sqr_foot\", ascending=False).head(10)\n",
    "    top_2015 = neighborhood_data.loc[neighborhood_data['year']==2015].sort_values(by=\"sale_price_sqr_foot\", ascending=False).head(10)\n",
    "    top_2016 = neighborhood_data.loc[neighborhood_data['year']==2016].sort_values(by=\"sale_price_sqr_foot\", ascending=False).head(10)\n",
    "\n",
    "    sunburst_data = pd.concat([top_2010,top_2011,top_2012,top_2013,top_2014,top_2015,top_2016], axis=0, sort=True).dropna().reset_index()\n",
    "    \n",
    "    burst_plot = px.sunburst(\n",
    "        sunburst_data, \n",
    "        path = ['year', 'neighborhood'],\n",
    "        values='sale_price_sqr_foot', \n",
    "        color='gross_rent',\n",
    "        color_continuous_scale=px.colors.sequential.Blues,\n",
    "        title='Cost Analysts of Most Expensive neighborhoods in San Francisco by Year',\n",
    "        width=1000,\n",
    "        height=1000,\n",
    "    )\n",
    "    \n",
    "    return burst_plot\n"
   ]
  },
  {
   "cell_type": "markdown",
   "metadata": {},
   "source": [
    "## Panel Dashboard\n",
    "\n",
    "In this section, you will combine all of the plots into a single dashboard view using Panel. Be creative with your dashboard design!"
   ]
  },
  {
   "cell_type": "code",
   "execution_count": 379,
   "metadata": {},
   "outputs": [],
   "source": [
    "# Create a Title for the Dashboard\n",
    "title = '#San Francisco Housing Dashboard'\n",
    "\n",
    "# Create a tab layout for the dashboard\n",
    "cover_page = pn.Column(\n",
    "    title\n",
    ")\n",
    "\n",
    "market_overview = pn.Column(\n",
    "    \"## SFO Housing Market Overview\", \n",
    "    housing_units_per_year(), \n",
    "    average_gross_rent(), \n",
    "    average_sales_price()\n",
    ")\n",
    "\n",
    "neighborhood_analysis = pn.Column(\n",
    "    \"## Neighborhood Analysis\",\n",
    "    average_price_by_neighborhood(),\n",
    "    top_most_expensive_neighborhoods(),\n",
    "    most_expensive_neighborhoods_rent_sales()\n",
    ")\n",
    "\n",
    "parallel_plots = pn.Column( \n",
    "    \"## Neighborhood Analysis cont.\",\n",
    "    parallel_categories(),\n",
    "    parallel_coordinates()\n",
    ")\n",
    "\n",
    "interactive_map = pn.Column( \n",
    "    \"## Neighborhood Map\",\n",
    "    neighborhood_map()\n",
    ")\n",
    "\n",
    "burst = pn.Column( \n",
    "    \"## Summary of most expensive neighborhoods by year\",\n",
    "    sunburst()\n",
    ")\n",
    "\n",
    "\n",
    "SFO_housing_dashboard = pn.Tabs(\n",
    "    (\"Cover Page\",cover_page),\n",
    "    (\"Introduction\",interactive_map),\n",
    "    (\"Market Overview\", market_overview), \n",
    "    (\"Neighborhood Analysis\", neighborhood_analysis),\n",
    "    (\"Parallel Plots\", parallel_plots),\n",
    "    (\"Summary\", burst),\n",
    ")\n",
    "\n",
    "# Create the dashboard"
   ]
  },
  {
   "cell_type": "markdown",
   "metadata": {},
   "source": [
    "## Serve the Panel Dashboard"
   ]
  },
  {
   "cell_type": "code",
   "execution_count": 380,
   "metadata": {},
   "outputs": [
    {
     "data": {},
     "metadata": {},
     "output_type": "display_data"
    },
    {
     "data": {},
     "metadata": {},
     "output_type": "display_data"
    },
    {
     "data": {
      "application/vnd.holoviews_exec.v0+json": "",
      "text/html": [
       "<div id='13848'>\n",
       "\n",
       "\n",
       "\n",
       "\n",
       "\n",
       "  <div class=\"bk-root\" id=\"0c437dbc-6454-40f6-b56b-370f5899248c\" data-root-id=\"13848\"></div>\n",
       "</div>\n",
       "<script type=\"application/javascript\">(function(root) {\n",
       "  function embed_document(root) {\n",
       "    var docs_json = {\"3b04efd6-f1b6-4d2d-8717-0ee433f21ccf\":{\"roots\":{\"references\":[{\"attributes\":{\"axis\":{\"id\":\"13936\"},\"dimension\":1,\"grid_line_color\":null,\"ticker\":null},\"id\":\"13939\",\"type\":\"Grid\"},{\"attributes\":{\"axis_label\":\"Price per Square Foot\",\"bounds\":\"auto\",\"formatter\":{\"id\":\"14023\"},\"major_label_orientation\":\"horizontal\",\"ticker\":{\"id\":\"13999\"}},\"id\":\"13998\",\"type\":\"LinearAxis\"},{\"attributes\":{\"axis\":{\"id\":\"14133\"},\"dimension\":1,\"grid_line_color\":null,\"ticker\":null},\"id\":\"14136\",\"type\":\"Grid\"},{\"attributes\":{\"axis_label\":\"Neighborhood\",\"bounds\":\"auto\",\"formatter\":{\"id\":\"14159\"},\"major_label_orientation\":1.5707963267948966,\"ticker\":{\"id\":\"14131\"}},\"id\":\"14130\",\"type\":\"CategoricalAxis\"},{\"attributes\":{\"active_drag\":\"auto\",\"active_inspect\":\"auto\",\"active_multi\":null,\"active_scroll\":\"auto\",\"active_tap\":\"auto\",\"tools\":[{\"id\":\"14050\"},{\"id\":\"14068\"},{\"id\":\"14069\"},{\"id\":\"14070\"},{\"id\":\"14071\"},{\"id\":\"14072\"}]},\"id\":\"14074\",\"type\":\"Toolbar\"},{\"attributes\":{\"below\":[{\"id\":\"13871\"}],\"center\":[{\"id\":\"13873\"},{\"id\":\"13877\"}],\"left\":[{\"id\":\"13874\"}],\"margin\":[5,5,5,5],\"min_border_bottom\":10,\"min_border_left\":10,\"min_border_right\":10,\"min_border_top\":10,\"plot_height\":300,\"plot_width\":500,\"renderers\":[{\"id\":\"13897\"}],\"sizing_mode\":\"fixed\",\"title\":{\"id\":\"13863\"},\"toolbar\":{\"id\":\"13884\"},\"x_range\":{\"id\":\"13859\"},\"x_scale\":{\"id\":\"13867\"},\"y_range\":{\"id\":\"13860\"},\"y_scale\":{\"id\":\"13869\"}},\"id\":\"13862\",\"subtype\":\"Figure\",\"type\":\"Plot\"},{\"attributes\":{\"css_classes\":[\"markdown\"],\"margin\":[5,5,5,5],\"name\":\"Markdown30572\",\"text\":\"&lt;h2&gt;Neighborhood Analysis&lt;/h2&gt;\"},\"id\":\"14046\",\"type\":\"panel.models.markup.HTML\"},{\"attributes\":{\"data_source\":{\"id\":\"13953\"},\"glyph\":{\"id\":\"13956\"},\"hover_glyph\":null,\"muted_glyph\":{\"id\":\"13958\"},\"nonselection_glyph\":{\"id\":\"13957\"},\"selection_glyph\":null,\"view\":{\"id\":\"13960\"}},\"id\":\"13959\",\"type\":\"GlyphRenderer\"},{\"attributes\":{},\"id\":\"14035\",\"type\":\"UnionRenderers\"},{\"attributes\":{},\"id\":\"14131\",\"type\":\"CategoricalTicker\"},{\"attributes\":{\"active_drag\":\"auto\",\"active_inspect\":\"auto\",\"active_multi\":null,\"active_scroll\":\"auto\",\"active_tap\":\"auto\",\"tools\":[{\"id\":\"13922\"},{\"id\":\"13940\"},{\"id\":\"13941\"},{\"id\":\"13942\"},{\"id\":\"13943\"},{\"id\":\"13944\"}]},\"id\":\"13946\",\"type\":\"Toolbar\"},{\"attributes\":{\"children\":[{\"id\":\"13853\"},{\"id\":\"13855\"}],\"margin\":[0,0,0,0],\"name\":\"Column30609\"},\"id\":\"13852\",\"type\":\"Column\"},{\"attributes\":{\"axis\":{\"id\":\"14130\"},\"grid_line_color\":null,\"ticker\":null},\"id\":\"14132\",\"type\":\"Grid\"},{\"attributes\":{\"line_alpha\":0.2,\"line_color\":\"#1f77b3\",\"line_width\":2,\"x\":{\"field\":\"year\"},\"y\":{\"field\":\"gross_rent\"}},\"id\":\"13958\",\"type\":\"Line\"},{\"attributes\":{},\"id\":\"14004\",\"type\":\"WheelZoomTool\"},{\"attributes\":{},\"id\":\"13940\",\"type\":\"SaveTool\"},{\"attributes\":{\"data\":{\"neighborhood\":[\"Union Square District\",\"Merced Heights\",\"Miraloma Park\",\"Pacific Heights\",\"Westwood Park\",\"Telegraph Hill\",\"Presidio Heights\",\"Cow Hollow\",\"Potrero Hill\",\"South Beach\"],\"sale_price_sqr_foot\":{\"__ndarray__\":\"JRAUMfI/jEB9IrkvwqaIQFx/3pp8XohAFpsVUHKMhUBs0ERas3iFQL0KhXgNJIVAy835O80ahUANV25bts+EQJrMCuEbsIRAya3y7v5QhEA=\",\"dtype\":\"float64\",\"order\":\"little\",\"shape\":[10]}},\"selected\":{\"id\":\"14151\"},\"selection_policy\":{\"id\":\"14170\"}},\"id\":\"14150\",\"type\":\"ColumnDataSource\"},{\"attributes\":{\"text\":\"Comparison of Rent and Sales Prices of SFO Neighborhoods\",\"text_color\":{\"value\":\"black\"},\"text_font_size\":{\"value\":\"12pt\"}},\"id\":\"14184\",\"type\":\"Title\"},{\"attributes\":{\"axis\":{\"id\":\"13874\"},\"dimension\":1,\"grid_line_color\":null,\"ticker\":null},\"id\":\"13877\",\"type\":\"Grid\"},{\"attributes\":{\"axis_label\":\"Year\",\"bounds\":\"auto\",\"formatter\":{\"id\":\"13962\"},\"major_label_orientation\":\"horizontal\",\"ticker\":{\"id\":\"13933\"}},\"id\":\"13932\",\"type\":\"LinearAxis\"},{\"attributes\":{},\"id\":\"14134\",\"type\":\"BasicTicker\"},{\"attributes\":{\"axis_label\":\"Price per Square Foot\",\"bounds\":\"auto\",\"formatter\":{\"id\":\"14158\"},\"major_label_orientation\":\"horizontal\",\"ticker\":{\"id\":\"14134\"}},\"id\":\"14133\",\"type\":\"LinearAxis\"},{\"attributes\":{},\"id\":\"13941\",\"type\":\"PanTool\"},{\"attributes\":{},\"id\":\"13942\",\"type\":\"WheelZoomTool\"},{\"attributes\":{},\"id\":\"14159\",\"type\":\"CategoricalTickFormatter\"},{\"attributes\":{\"child\":{\"id\":\"13857\"},\"name\":\"Column30385\",\"title\":\"Market Overview\"},\"id\":\"14044\",\"type\":\"Panel\"},{\"attributes\":{},\"id\":\"13900\",\"type\":\"CategoricalTickFormatter\"},{\"attributes\":{},\"id\":\"13973\",\"type\":\"UnionRenderers\"},{\"attributes\":{\"overlay\":{\"id\":\"13945\"}},\"id\":\"13943\",\"type\":\"BoxZoomTool\"},{\"attributes\":{},\"id\":\"14201\",\"type\":\"WheelZoomTool\"},{\"attributes\":{},\"id\":\"14214\",\"type\":\"Selection\"},{\"attributes\":{\"axis\":{\"id\":\"13871\"},\"grid_line_color\":null,\"ticker\":null},\"id\":\"13873\",\"type\":\"Grid\"},{\"attributes\":{\"axis\":{\"id\":\"13998\"},\"dimension\":1,\"grid_line_color\":null,\"ticker\":null},\"id\":\"14001\",\"type\":\"Grid\"},{\"attributes\":{\"fill_alpha\":{\"value\":0.2},\"fill_color\":{\"value\":\"#1f77b3\"},\"line_alpha\":{\"value\":0.2},\"top\":{\"field\":\"sale_price_sqr_foot\"},\"width\":{\"value\":0.8},\"x\":{\"field\":\"neighborhood\"}},\"id\":\"14155\",\"type\":\"VBar\"},{\"attributes\":{\"overlay\":{\"id\":\"14073\"}},\"id\":\"14071\",\"type\":\"BoxZoomTool\"},{\"attributes\":{\"axis_label\":\"Year\",\"bounds\":\"auto\",\"formatter\":{\"id\":\"13900\"},\"major_label_orientation\":\"horizontal\",\"ticker\":{\"id\":\"13872\"}},\"id\":\"13871\",\"type\":\"CategoricalAxis\"},{\"attributes\":{\"line_alpha\":0.1,\"line_color\":\"#1f77b3\",\"line_width\":2,\"x\":{\"field\":\"year\"},\"y\":{\"field\":\"gross_rent\"}},\"id\":\"13957\",\"type\":\"Line\"},{\"attributes\":{\"axis_label\":\"Year\",\"bounds\":\"auto\",\"formatter\":{\"id\":\"14024\"},\"major_label_orientation\":\"horizontal\",\"ticker\":{\"id\":\"13995\"}},\"id\":\"13994\",\"type\":\"LinearAxis\"},{\"attributes\":{\"data\":{\"Variable\":[\"gross_rent\",\"gross_rent\",\"gross_rent\",\"gross_rent\",\"gross_rent\",\"gross_rent\",\"gross_rent\",\"sale_price_sqr_foot\",\"sale_price_sqr_foot\",\"sale_price_sqr_foot\",\"sale_price_sqr_foot\",\"sale_price_sqr_foot\",\"sale_price_sqr_foot\",\"sale_price_sqr_foot\"],\"value\":{\"__ndarray__\":\"AAAAAABck0AAAAAAAOiXQAAAAAAAKKJAAAAAAAA2p0AAAAAAAJCrQAAAAAAANq1AAAAAAAAmsUAORztY7TJyQJp+zNxvCHFAgZGzmi3jZkAnOiDQtDx4QBYyKcoYR35AjRXkUO3QgkBUIdyYtU91QA==\",\"dtype\":\"float64\",\"order\":\"little\",\"shape\":[14]},\"xoffsets\":[[\"2010\",\"gross_rent\"],[\"2011\",\"gross_rent\"],[\"2012\",\"gross_rent\"],[\"2013\",\"gross_rent\"],[\"2014\",\"gross_rent\"],[\"2015\",\"gross_rent\"],[\"2016\",\"gross_rent\"],[\"2010\",\"sale_price_sqr_foot\"],[\"2011\",\"sale_price_sqr_foot\"],[\"2012\",\"sale_price_sqr_foot\"],[\"2013\",\"sale_price_sqr_foot\"],[\"2014\",\"sale_price_sqr_foot\"],[\"2015\",\"sale_price_sqr_foot\"],[\"2016\",\"sale_price_sqr_foot\"]],\"year\":[\"2010\",\"2011\",\"2012\",\"2013\",\"2014\",\"2015\",\"2016\",\"2010\",\"2011\",\"2012\",\"2013\",\"2014\",\"2015\",\"2016\"]},\"selected\":{\"id\":\"14214\"},\"selection_policy\":{\"id\":\"14237\"}},\"id\":\"14213\",\"type\":\"ColumnDataSource\"},{\"attributes\":{},\"id\":\"13878\",\"type\":\"SaveTool\"},{\"attributes\":{\"line_alpha\":0.1,\"line_color\":\"#1f77b3\",\"line_width\":2,\"x\":{\"field\":\"year\"},\"y\":{\"field\":\"sale_price_sqr_foot\"}},\"id\":\"14019\",\"type\":\"Line\"},{\"attributes\":{},\"id\":\"13944\",\"type\":\"ResetTool\"},{\"attributes\":{},\"id\":\"14137\",\"type\":\"SaveTool\"},{\"attributes\":{\"active_drag\":\"auto\",\"active_inspect\":\"auto\",\"active_multi\":null,\"active_scroll\":\"auto\",\"active_tap\":\"auto\",\"tools\":[{\"id\":\"13984\"},{\"id\":\"14002\"},{\"id\":\"14003\"},{\"id\":\"14004\"},{\"id\":\"14005\"},{\"id\":\"14006\"}]},\"id\":\"14008\",\"type\":\"Toolbar\"},{\"attributes\":{},\"id\":\"13933\",\"type\":\"BasicTicker\"},{\"attributes\":{},\"id\":\"14070\",\"type\":\"WheelZoomTool\"},{\"attributes\":{\"data_source\":{\"id\":\"13891\"},\"glyph\":{\"id\":\"13894\"},\"hover_glyph\":null,\"muted_glyph\":{\"id\":\"13896\"},\"nonselection_glyph\":{\"id\":\"13895\"},\"selection_glyph\":null,\"view\":{\"id\":\"13898\"}},\"id\":\"13897\",\"type\":\"GlyphRenderer\"},{\"attributes\":{},\"id\":\"14138\",\"type\":\"PanTool\"},{\"attributes\":{\"line_alpha\":0.2,\"line_color\":\"#1f77b3\",\"line_width\":2,\"x\":{\"field\":\"year\"},\"y\":{\"field\":\"sale_price_sqr_foot\"}},\"id\":\"14020\",\"type\":\"Line\"},{\"attributes\":{\"format\":\"%.0f\"},\"id\":\"14023\",\"type\":\"PrintfTickFormatter\"},{\"attributes\":{},\"id\":\"14139\",\"type\":\"WheelZoomTool\"},{\"attributes\":{\"_render_count\":0,\"config\":null,\"data\":[{\"hovertemplate\":\"<b>%{hovertext}</b><br><br>sale_price_sqr_foot=%{marker.size}<br>Lat=%{lat}<br>Lon=%{lon}<br>gross_rent=%{marker.color}<extra></extra>\",\"legendgroup\":\"\",\"marker\":{\"coloraxis\":\"coloraxis\",\"sizemode\":\"area\",\"sizeref\":0.7553081320242283},\"mode\":\"markers\",\"name\":\"\",\"showlegend\":false,\"subplot\":\"mapbox\",\"type\":\"scattermapbox\"}],\"data_sources\":[{\"id\":\"13854\"}],\"layout\":{\"coloraxis\":{\"colorbar\":{\"title\":{\"text\":\"gross_rent\"}},\"colorscale\":[[0.0,\"rgb(36, 86, 104)\"],[0.16666666666666666,\"rgb(15, 114, 121)\"],[0.3333333333333333,\"rgb(13, 143, 129)\"],[0.5,\"rgb(57, 171, 126)\"],[0.6666666666666666,\"rgb(110, 197, 116)\"],[0.8333333333333334,\"rgb(169, 220, 103)\"],[1.0,\"rgb(237, 239, 93)\"]]},\"legend\":{\"itemsizing\":\"constant\",\"tracegroupgap\":0},\"mapbox\":{\"accesstoken\":\"pk.eyJ1Ijoic2FtcnoyMTkiLCJhIjoiY2tsNnl0NHRoMDIycDJwbXZqbmswZmc5NCJ9.hB4IerE_YLuSFQqZLcdM8g\",\"center\":{\"lat\":37.76019350684932,\"lon\":-122.43912380821916},\"domain\":{\"x\":[0.0,1.0],\"y\":[0.0,1.0]},\"zoom\":10},\"template\":{\"data\":{\"bar\":[{\"error_x\":{\"color\":\"#2a3f5f\"},\"error_y\":{\"color\":\"#2a3f5f\"},\"marker\":{\"line\":{\"color\":\"#E5ECF6\",\"width\":0.5}},\"type\":\"bar\"}],\"barpolar\":[{\"marker\":{\"line\":{\"color\":\"#E5ECF6\",\"width\":0.5}},\"type\":\"barpolar\"}],\"carpet\":[{\"aaxis\":{\"endlinecolor\":\"#2a3f5f\",\"gridcolor\":\"white\",\"linecolor\":\"white\",\"minorgridcolor\":\"white\",\"startlinecolor\":\"#2a3f5f\"},\"baxis\":{\"endlinecolor\":\"#2a3f5f\",\"gridcolor\":\"white\",\"linecolor\":\"white\",\"minorgridcolor\":\"white\",\"startlinecolor\":\"#2a3f5f\"},\"type\":\"carpet\"}],\"choropleth\":[{\"colorbar\":{\"outlinewidth\":0,\"ticks\":\"\"},\"type\":\"choropleth\"}],\"contour\":[{\"colorbar\":{\"outlinewidth\":0,\"ticks\":\"\"},\"colorscale\":[[0.0,\"#0d0887\"],[0.1111111111111111,\"#46039f\"],[0.2222222222222222,\"#7201a8\"],[0.3333333333333333,\"#9c179e\"],[0.4444444444444444,\"#bd3786\"],[0.5555555555555556,\"#d8576b\"],[0.6666666666666666,\"#ed7953\"],[0.7777777777777778,\"#fb9f3a\"],[0.8888888888888888,\"#fdca26\"],[1.0,\"#f0f921\"]],\"type\":\"contour\"}],\"contourcarpet\":[{\"colorbar\":{\"outlinewidth\":0,\"ticks\":\"\"},\"type\":\"contourcarpet\"}],\"heatmap\":[{\"colorbar\":{\"outlinewidth\":0,\"ticks\":\"\"},\"colorscale\":[[0.0,\"#0d0887\"],[0.1111111111111111,\"#46039f\"],[0.2222222222222222,\"#7201a8\"],[0.3333333333333333,\"#9c179e\"],[0.4444444444444444,\"#bd3786\"],[0.5555555555555556,\"#d8576b\"],[0.6666666666666666,\"#ed7953\"],[0.7777777777777778,\"#fb9f3a\"],[0.8888888888888888,\"#fdca26\"],[1.0,\"#f0f921\"]],\"type\":\"heatmap\"}],\"heatmapgl\":[{\"colorbar\":{\"outlinewidth\":0,\"ticks\":\"\"},\"colorscale\":[[0.0,\"#0d0887\"],[0.1111111111111111,\"#46039f\"],[0.2222222222222222,\"#7201a8\"],[0.3333333333333333,\"#9c179e\"],[0.4444444444444444,\"#bd3786\"],[0.5555555555555556,\"#d8576b\"],[0.6666666666666666,\"#ed7953\"],[0.7777777777777778,\"#fb9f3a\"],[0.8888888888888888,\"#fdca26\"],[1.0,\"#f0f921\"]],\"type\":\"heatmapgl\"}],\"histogram\":[{\"marker\":{\"colorbar\":{\"outlinewidth\":0,\"ticks\":\"\"}},\"type\":\"histogram\"}],\"histogram2d\":[{\"colorbar\":{\"outlinewidth\":0,\"ticks\":\"\"},\"colorscale\":[[0.0,\"#0d0887\"],[0.1111111111111111,\"#46039f\"],[0.2222222222222222,\"#7201a8\"],[0.3333333333333333,\"#9c179e\"],[0.4444444444444444,\"#bd3786\"],[0.5555555555555556,\"#d8576b\"],[0.6666666666666666,\"#ed7953\"],[0.7777777777777778,\"#fb9f3a\"],[0.8888888888888888,\"#fdca26\"],[1.0,\"#f0f921\"]],\"type\":\"histogram2d\"}],\"histogram2dcontour\":[{\"colorbar\":{\"outlinewidth\":0,\"ticks\":\"\"},\"colorscale\":[[0.0,\"#0d0887\"],[0.1111111111111111,\"#46039f\"],[0.2222222222222222,\"#7201a8\"],[0.3333333333333333,\"#9c179e\"],[0.4444444444444444,\"#bd3786\"],[0.5555555555555556,\"#d8576b\"],[0.6666666666666666,\"#ed7953\"],[0.7777777777777778,\"#fb9f3a\"],[0.8888888888888888,\"#fdca26\"],[1.0,\"#f0f921\"]],\"type\":\"histogram2dcontour\"}],\"mesh3d\":[{\"colorbar\":{\"outlinewidth\":0,\"ticks\":\"\"},\"type\":\"mesh3d\"}],\"parcoords\":[{\"line\":{\"colorbar\":{\"outlinewidth\":0,\"ticks\":\"\"}},\"type\":\"parcoords\"}],\"pie\":[{\"automargin\":true,\"type\":\"pie\"}],\"scatter\":[{\"marker\":{\"colorbar\":{\"outlinewidth\":0,\"ticks\":\"\"}},\"type\":\"scatter\"}],\"scatter3d\":[{\"line\":{\"colorbar\":{\"outlinewidth\":0,\"ticks\":\"\"}},\"marker\":{\"colorbar\":{\"outlinewidth\":0,\"ticks\":\"\"}},\"type\":\"scatter3d\"}],\"scattercarpet\":[{\"marker\":{\"colorbar\":{\"outlinewidth\":0,\"ticks\":\"\"}},\"type\":\"scattercarpet\"}],\"scattergeo\":[{\"marker\":{\"colorbar\":{\"outlinewidth\":0,\"ticks\":\"\"}},\"type\":\"scattergeo\"}],\"scattergl\":[{\"marker\":{\"colorbar\":{\"outlinewidth\":0,\"ticks\":\"\"}},\"type\":\"scattergl\"}],\"scattermapbox\":[{\"marker\":{\"colorbar\":{\"outlinewidth\":0,\"ticks\":\"\"}},\"type\":\"scattermapbox\"}],\"scatterpolar\":[{\"marker\":{\"colorbar\":{\"outlinewidth\":0,\"ticks\":\"\"}},\"type\":\"scatterpolar\"}],\"scatterpolargl\":[{\"marker\":{\"colorbar\":{\"outlinewidth\":0,\"ticks\":\"\"}},\"type\":\"scatterpolargl\"}],\"scatterternary\":[{\"marker\":{\"colorbar\":{\"outlinewidth\":0,\"ticks\":\"\"}},\"type\":\"scatterternary\"}],\"surface\":[{\"colorbar\":{\"outlinewidth\":0,\"ticks\":\"\"},\"colorscale\":[[0.0,\"#0d0887\"],[0.1111111111111111,\"#46039f\"],[0.2222222222222222,\"#7201a8\"],[0.3333333333333333,\"#9c179e\"],[0.4444444444444444,\"#bd3786\"],[0.5555555555555556,\"#d8576b\"],[0.6666666666666666,\"#ed7953\"],[0.7777777777777778,\"#fb9f3a\"],[0.8888888888888888,\"#fdca26\"],[1.0,\"#f0f921\"]],\"type\":\"surface\"}],\"table\":[{\"cells\":{\"fill\":{\"color\":\"#EBF0F8\"},\"line\":{\"color\":\"white\"}},\"header\":{\"fill\":{\"color\":\"#C8D4E3\"},\"line\":{\"color\":\"white\"}},\"type\":\"table\"}]},\"layout\":{\"annotationdefaults\":{\"arrowcolor\":\"#2a3f5f\",\"arrowhead\":0,\"arrowwidth\":1},\"autotypenumbers\":\"strict\",\"coloraxis\":{\"colorbar\":{\"outlinewidth\":0,\"ticks\":\"\"}},\"colorscale\":{\"diverging\":[[0,\"#8e0152\"],[0.1,\"#c51b7d\"],[0.2,\"#de77ae\"],[0.3,\"#f1b6da\"],[0.4,\"#fde0ef\"],[0.5,\"#f7f7f7\"],[0.6,\"#e6f5d0\"],[0.7,\"#b8e186\"],[0.8,\"#7fbc41\"],[0.9,\"#4d9221\"],[1,\"#276419\"]],\"sequential\":[[0.0,\"#0d0887\"],[0.1111111111111111,\"#46039f\"],[0.2222222222222222,\"#7201a8\"],[0.3333333333333333,\"#9c179e\"],[0.4444444444444444,\"#bd3786\"],[0.5555555555555556,\"#d8576b\"],[0.6666666666666666,\"#ed7953\"],[0.7777777777777778,\"#fb9f3a\"],[0.8888888888888888,\"#fdca26\"],[1.0,\"#f0f921\"]],\"sequentialminus\":[[0.0,\"#0d0887\"],[0.1111111111111111,\"#46039f\"],[0.2222222222222222,\"#7201a8\"],[0.3333333333333333,\"#9c179e\"],[0.4444444444444444,\"#bd3786\"],[0.5555555555555556,\"#d8576b\"],[0.6666666666666666,\"#ed7953\"],[0.7777777777777778,\"#fb9f3a\"],[0.8888888888888888,\"#fdca26\"],[1.0,\"#f0f921\"]]},\"colorway\":[\"#636efa\",\"#EF553B\",\"#00cc96\",\"#ab63fa\",\"#FFA15A\",\"#19d3f3\",\"#FF6692\",\"#B6E880\",\"#FF97FF\",\"#FECB52\"],\"font\":{\"color\":\"#2a3f5f\"},\"geo\":{\"bgcolor\":\"white\",\"lakecolor\":\"white\",\"landcolor\":\"#E5ECF6\",\"showlakes\":true,\"showland\":true,\"subunitcolor\":\"white\"},\"hoverlabel\":{\"align\":\"left\"},\"hovermode\":\"closest\",\"mapbox\":{\"style\":\"light\"},\"paper_bgcolor\":\"white\",\"plot_bgcolor\":\"#E5ECF6\",\"polar\":{\"angularaxis\":{\"gridcolor\":\"white\",\"linecolor\":\"white\",\"ticks\":\"\"},\"bgcolor\":\"#E5ECF6\",\"radialaxis\":{\"gridcolor\":\"white\",\"linecolor\":\"white\",\"ticks\":\"\"}},\"scene\":{\"xaxis\":{\"backgroundcolor\":\"#E5ECF6\",\"gridcolor\":\"white\",\"gridwidth\":2,\"linecolor\":\"white\",\"showbackground\":true,\"ticks\":\"\",\"zerolinecolor\":\"white\"},\"yaxis\":{\"backgroundcolor\":\"#E5ECF6\",\"gridcolor\":\"white\",\"gridwidth\":2,\"linecolor\":\"white\",\"showbackground\":true,\"ticks\":\"\",\"zerolinecolor\":\"white\"},\"zaxis\":{\"backgroundcolor\":\"#E5ECF6\",\"gridcolor\":\"white\",\"gridwidth\":2,\"linecolor\":\"white\",\"showbackground\":true,\"ticks\":\"\",\"zerolinecolor\":\"white\"}},\"shapedefaults\":{\"line\":{\"color\":\"#2a3f5f\"}},\"ternary\":{\"aaxis\":{\"gridcolor\":\"white\",\"linecolor\":\"white\",\"ticks\":\"\"},\"baxis\":{\"gridcolor\":\"white\",\"linecolor\":\"white\",\"ticks\":\"\"},\"bgcolor\":\"#E5ECF6\",\"caxis\":{\"gridcolor\":\"white\",\"linecolor\":\"white\",\"ticks\":\"\"}},\"title\":{\"x\":0.05},\"xaxis\":{\"automargin\":true,\"gridcolor\":\"white\",\"linecolor\":\"white\",\"ticks\":\"\",\"title\":{\"standoff\":15},\"zerolinecolor\":\"white\",\"zerolinewidth\":2},\"yaxis\":{\"automargin\":true,\"gridcolor\":\"white\",\"linecolor\":\"white\",\"ticks\":\"\",\"title\":{\"standoff\":15},\"zerolinecolor\":\"white\",\"zerolinewidth\":2}}},\"title\":{\"text\":\"Average Sale Price Per Square Foot and Gross Rent in San Francisco\"}},\"margin\":[5,5,5,5],\"name\":\"Plotly30607\",\"viewport_update_throttle\":200},\"id\":\"13855\",\"type\":\"panel.models.plotly.PlotlyPlot\"},{\"attributes\":{\"end\":2016.0,\"reset_end\":2016.0,\"reset_start\":2010.0,\"start\":2010.0,\"tags\":[[[\"year\",\"year\",null]]]},\"id\":\"14048\",\"type\":\"Range1d\"},{\"attributes\":{},\"id\":\"13867\",\"type\":\"CategoricalScale\"},{\"attributes\":{\"overlay\":{\"id\":\"14142\"}},\"id\":\"14140\",\"type\":\"BoxZoomTool\"},{\"attributes\":{},\"id\":\"14006\",\"type\":\"ResetTool\"},{\"attributes\":{\"children\":[{\"id\":\"14051\"},{\"id\":\"14114\"}],\"margin\":[0,0,0,0],\"name\":\"Row30575\"},\"id\":\"14047\",\"type\":\"Row\"},{\"attributes\":{\"format\":\"%.0f\"},\"id\":\"14158\",\"type\":\"PrintfTickFormatter\"},{\"attributes\":{},\"id\":\"13869\",\"type\":\"LinearScale\"},{\"attributes\":{\"data_source\":{\"id\":\"14015\"},\"glyph\":{\"id\":\"14018\"},\"hover_glyph\":null,\"muted_glyph\":{\"id\":\"14020\"},\"nonselection_glyph\":{\"id\":\"14019\"},\"selection_glyph\":null,\"view\":{\"id\":\"14022\"}},\"id\":\"14021\",\"type\":\"GlyphRenderer\"},{\"attributes\":{\"css_classes\":[\"markdown\"],\"margin\":[5,5,5,5],\"name\":\"Markdown30001\",\"text\":\"&lt;h1&gt;San Francisco Housing Dashboard&lt;/h1&gt;\"},\"id\":\"13850\",\"type\":\"panel.models.markup.HTML\"},{\"attributes\":{\"data\":{\"dimensions.0.values\":[[\"Union Square District\",\"Merced Heights\",\"Miraloma Park\",\"Pacific Heights\",\"Westwood Park\",\"Telegraph Hill\",\"Presidio Heights\",\"Cow Hollow\",\"Potrero Hill\",\"South Beach\"]],\"dimensions.1.values\":[{\"__ndarray__\":\"AAAAAAByn0AAAAAAAHifQAAAAAAAb59AAAAAAAB0n0AAAAAAAHyfQAAAAAAAdJ9AAAAAAAB0n0AAAAAAAHSfQAAAAAAAdJ9Aq6qqqqpun0A=\",\"dtype\":\"float64\",\"order\":\"little\",\"shape\":[10]}],\"dimensions.2.values\":[{\"__ndarray__\":\"JRAUMfI/jEB9IrkvwqaIQFx/3pp8XohAFpsVUHKMhUBs0ERas3iFQL0KhXgNJIVAy835O80ahUANV25bts+EQJrMCuEbsIRAya3y7v5QhEA=\",\"dtype\":\"float64\",\"order\":\"little\",\"shape\":[10]}],\"dimensions.3.values\":[{\"__ndarray__\":\"AAAAAE4JF0EAAAAA8DYXQQAAAAB98hZBAAAAAIQYF0EAAAAAXFUXQQAAAACEGBdBAAAAAIQYF0EAAAAAhBgXQQAAAACEGBdBAAAAAPTvFkE=\",\"dtype\":\"float64\",\"order\":\"little\",\"shape\":[10]}],\"dimensions.4.values\":[{\"__ndarray__\":\"VVVVVVX2o0AAAAAAAKyqQAAAAACA1qBASZIkSZICpkAAAAAAAO6uQEmSJEmSAqZASZIkSZICpkBJkiRJkgKmQEmSJEmSAqZAAAAAAABmoEA=\",\"dtype\":\"float64\",\"order\":\"little\",\"shape\":[10]}],\"line.color\":[{\"__ndarray__\":\"JRAUMfI/jEB9IrkvwqaIQFx/3pp8XohAFpsVUHKMhUBs0ERas3iFQL0KhXgNJIVAy835O80ahUANV25bts+EQJrMCuEbsIRAya3y7v5QhEA=\",\"dtype\":\"float64\",\"order\":\"little\",\"shape\":[10]}]},\"selected\":{\"id\":\"14283\"},\"selection_policy\":{\"id\":\"14284\"}},\"id\":\"14253\",\"type\":\"ColumnDataSource\"},{\"attributes\":{\"css_classes\":[\"markdown\"],\"margin\":[5,5,5,5],\"name\":\"Markdown30368\",\"text\":\"&lt;h2&gt;SFO Housing Market Overview&lt;/h2&gt;\"},\"id\":\"13858\",\"type\":\"panel.models.markup.HTML\"},{\"attributes\":{\"fill_alpha\":{\"value\":0.1},\"fill_color\":{\"value\":\"#1f77b3\"},\"line_alpha\":{\"value\":0.1},\"top\":{\"field\":\"housing_units\"},\"width\":{\"value\":0.8},\"x\":{\"field\":\"year\"}},\"id\":\"13895\",\"type\":\"VBar\"},{\"attributes\":{\"margin\":[20,20,20,20],\"min_width\":250,\"options\":[\"Alamo Square\",\"Anza Vista\",\"Bayview\",\"Buena Vista Park\",\"Central Richmond\",\"Central Sunset\",\"Corona Heights\",\"Cow Hollow\",\"Croker Amazon\",\"Diamond Heights\",\"Downtown \",\"Eureka Valley/Dolores Heights\",\"Excelsior\",\"Financial District North\",\"Financial District South\",\"Forest Knolls\",\"Glen Park\",\"Golden Gate Heights\",\"Haight Ashbury\",\"Hayes Valley\",\"Hunters Point\",\"Ingleside \",\"Inner Mission\",\"Inner Parkside\",\"Inner Richmond\",\"Inner Sunset\",\"Jordan Park/Laurel Heights\",\"Lake --The Presidio\",\"Lone Mountain\",\"Lower Pacific Heights\",\"Marina\",\"Miraloma Park\",\"Mission Bay\",\"Mission Dolores\",\"Mission Terrace\",\"Nob Hill\",\"Noe Valley\",\"Oceanview\",\"Outer Parkside\",\"Outer Richmond \",\"Outer Sunset\",\"Pacific Heights\",\"Park North\",\"Parkside\",\"Parnassus/Ashbury Heights\",\"Portola\",\"Potrero Hill\",\"Presidio Heights\",\"Russian Hill\",\"South Beach\",\"South of Market\",\"Sunnyside\",\"Telegraph Hill\",\"Twin Peaks\",\"Union Square District\",\"Van Ness/ Civic Center\",\"West Portal\",\"Western Addition\",\"Yerba Buena\",\"Bernal Heights \",\"Clarendon Heights\",\"Duboce Triangle\",\"Ingleside Heights\",\"North Beach\",\"North Waterfront\",\"Outer Mission\",\"Westwood Highlands\",\"Merced Heights\",\"Midtown Terrace\",\"Visitacion Valley\",\"Silver Terrace\",\"Westwood Park\",\"Bayview Heights\"],\"title\":\"neighborhood\",\"value\":\"Alamo Square\",\"width\":250},\"id\":\"14248\",\"type\":\"Select\"},{\"attributes\":{\"overlay\":{\"id\":\"14007\"}},\"id\":\"14005\",\"type\":\"BoxZoomTool\"},{\"attributes\":{},\"id\":\"14141\",\"type\":\"ResetTool\"},{\"attributes\":{},\"id\":\"14069\",\"type\":\"PanTool\"},{\"attributes\":{\"callback\":null,\"renderers\":[{\"id\":\"13897\"}],\"tags\":[\"hv_created\"],\"tooltips\":[[\"year\",\"@{year}\"],[\"housing_units\",\"@{housing_units}\"]]},\"id\":\"13861\",\"type\":\"HoverTool\"},{\"attributes\":{\"line_alpha\":0.1,\"line_color\":\"#1f77b3\",\"line_width\":2,\"x\":{\"field\":\"year\"},\"y\":{\"field\":\"sale_price_sqr_foot\"}},\"id\":\"14085\",\"type\":\"Line\"},{\"attributes\":{\"children\":[{\"id\":\"14046\"},{\"id\":\"14047\"},{\"id\":\"14121\"},{\"id\":\"14179\"}],\"margin\":[0,0,0,0],\"name\":\"Column30597\"},\"id\":\"14045\",\"type\":\"Column\"},{\"attributes\":{},\"id\":\"13990\",\"type\":\"LinearScale\"},{\"attributes\":{\"children\":[{\"id\":\"14115\"},{\"id\":\"14117\"}],\"margin\":[0,0,0,0],\"name\":\"Column30582\"},\"id\":\"14114\",\"type\":\"Column\"},{\"attributes\":{\"overlay\":{\"id\":\"13883\"}},\"id\":\"13881\",\"type\":\"BoxZoomTool\"},{\"attributes\":{\"text\":\"Housing Units in San Francisco from 2010 to 2016\",\"text_color\":{\"value\":\"black\"},\"text_font_size\":{\"value\":\"12pt\"}},\"id\":\"13863\",\"type\":\"Title\"},{\"attributes\":{\"bottom_units\":\"screen\",\"fill_alpha\":0.5,\"fill_color\":\"lightgrey\",\"left_units\":\"screen\",\"level\":\"overlay\",\"line_alpha\":1.0,\"line_color\":\"black\",\"line_dash\":[4,4],\"line_width\":2,\"right_units\":\"screen\",\"top_units\":\"screen\"},\"id\":\"13945\",\"type\":\"BoxAnnotation\"},{\"attributes\":{\"bottom_units\":\"screen\",\"fill_alpha\":0.5,\"fill_color\":\"lightgrey\",\"left_units\":\"screen\",\"level\":\"overlay\",\"line_alpha\":1.0,\"line_color\":\"black\",\"line_dash\":[4,4],\"line_width\":2,\"right_units\":\"screen\",\"top_units\":\"screen\"},\"id\":\"14007\",\"type\":\"BoxAnnotation\"},{\"attributes\":{\"text\":\"Average Sale Price by Year\",\"text_color\":{\"value\":\"black\"},\"text_font_size\":{\"value\":\"12pt\"}},\"id\":\"13986\",\"type\":\"Title\"},{\"attributes\":{},\"id\":\"13872\",\"type\":\"CategoricalTicker\"},{\"attributes\":{\"children\":[{\"id\":\"14248\"}],\"css_classes\":[\"panel-widget-box\"],\"margin\":[5,5,5,5],\"name\":\"WidgetBox30590\"},\"id\":\"14247\",\"type\":\"Column\"},{\"attributes\":{\"axis\":{\"id\":\"13932\"},\"grid_line_color\":null,\"ticker\":null},\"id\":\"13935\",\"type\":\"Grid\"},{\"attributes\":{},\"id\":\"13879\",\"type\":\"PanTool\"},{\"attributes\":{\"below\":[{\"id\":\"13994\"}],\"center\":[{\"id\":\"13997\"},{\"id\":\"14001\"}],\"left\":[{\"id\":\"13998\"}],\"margin\":[5,5,5,5],\"min_border_bottom\":10,\"min_border_left\":10,\"min_border_right\":10,\"min_border_top\":10,\"plot_height\":300,\"plot_width\":500,\"renderers\":[{\"id\":\"14021\"}],\"sizing_mode\":\"fixed\",\"title\":{\"id\":\"13986\"},\"toolbar\":{\"id\":\"14008\"},\"x_range\":{\"id\":\"13982\"},\"x_scale\":{\"id\":\"13990\"},\"y_range\":{\"id\":\"13983\"},\"y_scale\":{\"id\":\"13992\"}},\"id\":\"13985\",\"subtype\":\"Figure\",\"type\":\"Plot\"},{\"attributes\":{\"fill_alpha\":{\"value\":0.2},\"fill_color\":{\"value\":\"#1f77b3\"},\"line_alpha\":{\"value\":0.2},\"top\":{\"field\":\"housing_units\"},\"width\":{\"value\":0.8},\"x\":{\"field\":\"year\"}},\"id\":\"13896\",\"type\":\"VBar\"},{\"attributes\":{\"bottom_units\":\"screen\",\"fill_alpha\":0.5,\"fill_color\":\"lightgrey\",\"left_units\":\"screen\",\"level\":\"overlay\",\"line_alpha\":1.0,\"line_color\":\"black\",\"line_dash\":[4,4],\"line_width\":2,\"right_units\":\"screen\",\"top_units\":\"screen\"},\"id\":\"14142\",\"type\":\"BoxAnnotation\"},{\"attributes\":{\"bottom_units\":\"screen\",\"fill_alpha\":0.5,\"fill_color\":\"lightgrey\",\"left_units\":\"screen\",\"level\":\"overlay\",\"line_alpha\":1.0,\"line_color\":\"black\",\"line_dash\":[4,4],\"line_width\":2,\"right_units\":\"screen\",\"top_units\":\"screen\"},\"id\":\"14073\",\"type\":\"BoxAnnotation\"},{\"attributes\":{},\"id\":\"13995\",\"type\":\"BasicTicker\"},{\"attributes\":{},\"id\":\"13892\",\"type\":\"Selection\"},{\"attributes\":{},\"id\":\"14068\",\"type\":\"SaveTool\"},{\"attributes\":{\"child\":{\"id\":\"13849\"},\"name\":\"Column30003\",\"title\":\"Cover Page\"},\"id\":\"13851\",\"type\":\"Panel\"},{\"attributes\":{},\"id\":\"14003\",\"type\":\"PanTool\"},{\"attributes\":{\"axis_label\":\"Price per Square Foot\",\"bounds\":\"auto\",\"formatter\":{\"id\":\"14089\"},\"major_label_orientation\":\"horizontal\",\"ticker\":{\"id\":\"14065\"}},\"id\":\"14064\",\"type\":\"LinearAxis\"},{\"attributes\":{\"factors\":[[\"2010\",\"gross_rent\"],[\"2010\",\"sale_price_sqr_foot\"],[\"2011\",\"gross_rent\"],[\"2011\",\"sale_price_sqr_foot\"],[\"2012\",\"gross_rent\"],[\"2012\",\"sale_price_sqr_foot\"],[\"2013\",\"gross_rent\"],[\"2013\",\"sale_price_sqr_foot\"],[\"2014\",\"gross_rent\"],[\"2014\",\"sale_price_sqr_foot\"],[\"2015\",\"gross_rent\"],[\"2015\",\"sale_price_sqr_foot\"],[\"2016\",\"gross_rent\"],[\"2016\",\"sale_price_sqr_foot\"]],\"tags\":[[[\"year\",\"year\",null],[\"Variable\",\"Variable\",null]]]},\"id\":\"14180\",\"type\":\"FactorRange\"},{\"attributes\":{},\"id\":\"14072\",\"type\":\"ResetTool\"},{\"attributes\":{\"axis_label\":\"Housing Units\",\"bounds\":\"auto\",\"formatter\":{\"id\":\"13899\"},\"major_label_orientation\":\"horizontal\",\"ticker\":{\"id\":\"13875\"}},\"id\":\"13874\",\"type\":\"LinearAxis\"},{\"attributes\":{\"children\":[{\"id\":\"14247\"},{\"id\":\"14249\"}],\"margin\":[0,0,0,0],\"name\":\"Column30596\"},\"id\":\"14246\",\"type\":\"Column\"},{\"attributes\":{\"source\":{\"id\":\"13953\"}},\"id\":\"13960\",\"type\":\"CDSView\"},{\"attributes\":{},\"id\":\"14016\",\"type\":\"Selection\"},{\"attributes\":{},\"id\":\"13962\",\"type\":\"BasicTickFormatter\"},{\"attributes\":{\"bottom_units\":\"screen\",\"fill_alpha\":0.5,\"fill_color\":\"lightgrey\",\"left_units\":\"screen\",\"level\":\"overlay\",\"line_alpha\":1.0,\"line_color\":\"black\",\"line_dash\":[4,4],\"line_width\":2,\"right_units\":\"screen\",\"top_units\":\"screen\"},\"id\":\"13883\",\"type\":\"BoxAnnotation\"},{\"attributes\":{\"axis\":{\"id\":\"14064\"},\"dimension\":1,\"grid_line_color\":null,\"ticker\":null},\"id\":\"14067\",\"type\":\"Grid\"},{\"attributes\":{},\"id\":\"14170\",\"type\":\"UnionRenderers\"},{\"attributes\":{\"format\":\"%.0f\"},\"id\":\"13899\",\"type\":\"PrintfTickFormatter\"},{\"attributes\":{\"data_source\":{\"id\":\"14081\"},\"glyph\":{\"id\":\"14084\"},\"hover_glyph\":null,\"muted_glyph\":{\"id\":\"14086\"},\"nonselection_glyph\":{\"id\":\"14085\"},\"selection_glyph\":null,\"view\":{\"id\":\"14088\"}},\"id\":\"14087\",\"type\":\"GlyphRenderer\"},{\"attributes\":{\"active_drag\":\"auto\",\"active_inspect\":\"auto\",\"active_multi\":null,\"active_scroll\":\"auto\",\"active_tap\":\"auto\",\"tools\":[{\"id\":\"14120\"},{\"id\":\"14137\"},{\"id\":\"14138\"},{\"id\":\"14139\"},{\"id\":\"14140\"},{\"id\":\"14141\"}]},\"id\":\"14143\",\"type\":\"Toolbar\"},{\"attributes\":{},\"id\":\"14065\",\"type\":\"BasicTicker\"},{\"attributes\":{\"client_comm_id\":\"d627bf0d1f72435d84642097faac2fd6\",\"comm_id\":\"70a296959e8e4fda9b7759fe0b1a5bf5\",\"plot_id\":\"13848\"},\"id\":\"14413\",\"type\":\"panel.models.comm_manager.CommManager\"},{\"attributes\":{\"data_source\":{\"id\":\"14150\"},\"glyph\":{\"id\":\"14153\"},\"hover_glyph\":null,\"muted_glyph\":{\"id\":\"14155\"},\"nonselection_glyph\":{\"id\":\"14154\"},\"selection_glyph\":null,\"view\":{\"id\":\"14157\"}},\"id\":\"14156\",\"type\":\"GlyphRenderer\"},{\"attributes\":{\"source\":{\"id\":\"13891\"}},\"id\":\"13898\",\"type\":\"CDSView\"},{\"attributes\":{\"format\":\"%.0f\"},\"id\":\"13961\",\"type\":\"PrintfTickFormatter\"},{\"attributes\":{\"source\":{\"id\":\"14015\"}},\"id\":\"14022\",\"type\":\"CDSView\"},{\"attributes\":{\"children\":[{\"id\":\"13850\"}],\"margin\":[0,0,0,0],\"name\":\"Column30003\"},\"id\":\"13849\",\"type\":\"Column\"},{\"attributes\":{},\"id\":\"14024\",\"type\":\"BasicTickFormatter\"},{\"attributes\":{\"line_alpha\":0.2,\"line_color\":\"#1f77b3\",\"line_width\":2,\"x\":{\"field\":\"year\"},\"y\":{\"field\":\"sale_price_sqr_foot\"}},\"id\":\"14086\",\"type\":\"Line\"},{\"attributes\":{\"end\":390000,\"reset_end\":390000,\"reset_start\":370000,\"start\":370000,\"tags\":[[[\"housing_units\",\"housing_units\",null]]]},\"id\":\"13860\",\"type\":\"Range1d\"},{\"attributes\":{\"source\":{\"id\":\"14150\"}},\"id\":\"14157\",\"type\":\"CDSView\"},{\"attributes\":{\"margin\":[0,0,0,0],\"tabs\":[{\"id\":\"13851\"},{\"id\":\"13856\"},{\"id\":\"14044\"},{\"id\":\"14250\"},{\"id\":\"14257\"},{\"id\":\"14262\"}]},\"id\":\"13848\",\"type\":\"Tabs\"},{\"attributes\":{},\"id\":\"14002\",\"type\":\"SaveTool\"},{\"attributes\":{\"source\":{\"id\":\"14081\"}},\"id\":\"14088\",\"type\":\"CDSView\"},{\"attributes\":{\"fill_color\":{\"value\":\"#1f77b3\"},\"top\":{\"field\":\"housing_units\"},\"width\":{\"value\":0.8},\"x\":{\"field\":\"year\"}},\"id\":\"13894\",\"type\":\"VBar\"},{\"attributes\":{},\"id\":\"13880\",\"type\":\"WheelZoomTool\"},{\"attributes\":{},\"id\":\"14090\",\"type\":\"BasicTickFormatter\"},{\"attributes\":{},\"id\":\"13875\",\"type\":\"BasicTicker\"},{\"attributes\":{},\"id\":\"13911\",\"type\":\"UnionRenderers\"},{\"attributes\":{},\"id\":\"13992\",\"type\":\"LinearScale\"},{\"attributes\":{},\"id\":\"13999\",\"type\":\"BasicTicker\"},{\"attributes\":{\"axis\":{\"id\":\"13994\"},\"grid_line_color\":null,\"ticker\":null},\"id\":\"13997\",\"type\":\"Grid\"},{\"attributes\":{\"overlay\":{\"id\":\"14204\"}},\"id\":\"14202\",\"type\":\"BoxZoomTool\"},{\"attributes\":{\"data\":{\"hovertext\":[[\"Alamo Square\",\"Anza Vista\",\"Bayview\",\"Bayview Heights\",\"Bernal Heights\",\"Buena Vista Park\",\"Central Richmond\",\"Central Sunset\",\"Clarendon Heights\",\"Corona Heights\",\"Cow Hollow\",\"Croker Amazon\",\"Diamond Heights\",\"Downtown\",\"Duboce Triangle\",\"Eureka Valley/Dolores Heights\",\"Excelsior\",\"Financial District North\",\"Financial District South\",\"Forest Knolls\",\"Glen Park\",\"Golden Gate Heights\",\"Haight Ashbury\",\"Hayes Valley\",\"Hunters Point\",\"Ingleside\",\"Ingleside Heights\",\"Inner Mission\",\"Inner Parkside\",\"Inner Richmond\",\"Inner Sunset\",\"Jordan Park/Laurel Heights\",\"Lake --The Presidio\",\"Lone Mountain\",\"Lower Pacific Heights\",\"Marina\",\"Merced Heights\",\"Midtown Terrace\",\"Miraloma Park\",\"Mission Bay\",\"Mission Dolores\",\"Mission Terrace\",\"Nob Hill\",\"Noe Valley\",\"North Beach\",\"North Waterfront\",\"Oceanview\",\"Outer Mission\",\"Outer Parkside\",\"Outer Richmond\",\"Outer Sunset\",\"Pacific Heights\",\"Park North\",\"Parkside\",\"Parnassus/Ashbury Heights\",\"Portola\",\"Potrero Hill\",\"Presidio Heights\",\"Russian Hill\",\"Silver Terrace\",\"South Beach\",\"South of Market\",\"Sunnyside\",\"Telegraph Hill\",\"Twin Peaks\",\"Union Square District\",\"Van Ness/ Civic Center\",\"Visitacion Valley\",\"West Portal\",\"Western Addition\",\"Westwood Highlands\",\"Westwood Park\",\"Yerba Buena\"]],\"lat\":[{\"__ndarray__\":\"LV+X4T/lQkB1AwXeyeNCQBmto6oJ3kJAvqQxWkfdQkA2cXK/Q91CQDQMHxFT4kJAVvFG5pHjQkCVYHE4899CQPjfSnZs4EJAcQM+P4zkQkDoMF9egOVCQD/G3LWE3EJANnFyv0PdQkCMZ9DQP+VCQMPYQpCD4kJA8WjjiLXgQkC+pDFaR91CQIxn0NA/5UJAjGfQ0D/lQkAMjpJX5+BCQDZxcr9D3UJAe5+qQgPhQkDLoUW28+FCQMuhRbbz4UJA4nX9gt3cQkBIE+8AT9xCQHiXi/hO3EJAxvmbUIjgQkCVYHE4899CQAd7E0Ny4kJAlWBxOPPfQkBxAz4/jORCQIOLFTWY5kJAXW3F/rLjQkDoMF9egOVCQIP6ljld5kJAY7SOqibcQkD430p2bOBCQOAtkKD43UJAf59x4UDkQkCO6QlLPOBCQDZxcr9D3UJA6DBfXoDlQkD430p2bOBCQApoImx45kJACmgibHjmQkBjtI6qJtxCQD/G3LWE3EJAnDOitDfgQkBmg0wycuJCQJVgcTjz30JA6DBfXoDlQkC+h0uOO91CQJVgcTjz30JAL26jAbzhQkAZraOqCd5CQHb9gt2w3UJAcQM+P4zkQkDoMF9egOVCQBmto6oJ3kJAf59x4UDkQkCMZ9DQP+VCQOAtkKD43UJACmgibHjmQkDIW65+bOBCQIxn0NA/5UJA1XPS+8bjQkC+pDFaR91CQLtE9dbA3kJA6DBfXoDlQkCDL0ymCt5CQOAtkKD43UJA6DBfXoDlQkA=\",\"dtype\":\"float64\",\"order\":\"little\",\"shape\":[73]}],\"lon\":[{\"__ndarray__\":\"L26jAbyZXsA5mE2AYZxewPfuj/eqmV7A2dMOf02aXsCKH2PuWpxewLWJk/sdnF7AQspPqn2cXsB9VwT/W59ewC2VtyOcnF7Ad76fGi+dXsAge73745tewEPFOH8TnF7Aih9j7lqcXsAvbqMBvJlewOmf4GJFm17AAyFZwAScXsDZ0w5/TZpewC9uowG8mV7AL26jAbyZXsAkr84xIJ1ewIofY+5anF7AJyzxgLKdXsBPl8XE5ptewE+XxcTmm17ApFNXPsuXXsBmu0IfLJ9ewDY3picsn17AzOmymNiaXsB9VwT/W59ewEjdzr7ynl7AWoEhq1ufXsB3vp8aL51ewIjvxKwXnV7APz+MEB6dXsAge73745tewBU1mIbhnV7Aj+TyH9KdXsAtlbcjnJxewGmR7Xw/nV7AHcnlP6SZXsC6ZvLNNptewIofY+5anF7AIHu9++ObXsAtlbcjnJxewKuy74rgmV7Aq7LviuCZXsCP5PIf0p1ewEPFOH8TnF7ABoGVQ4ucXsDp1JXP8p5ewH1XBP9bn17AIHu9++ObXsDHM2jon55ewH1XBP9bn17A7MA5I0qdXsD37o/3qplewDehEAGHmF7Ad76fGi+dXsAge73745tewPfuj/eqmV7AHcnlP6SZXsAvbqMBvJlewGmR7Xw/nV7Aq7LviuCZXsBF14UfnJxewC9uowG8mV7AAkht4uSaXsDZ0w5/TZpewC9RvTWwnV7AIHu9++ObXsD/Qo8YPZ1ewGmR7Xw/nV7AVFxV9l2ZXsA=\",\"dtype\":\"float64\",\"order\":\"little\",\"shape\":[73]}],\"marker.color\":[[4390,4390,1239,1530,1530,1239,1239,2324,1239,3528,1239,1530,1530,4390,2324,3739,1530,1239,1530,1239,4390,1239,2971,1530,3528,2324,1530,2971,1530,1530,2971,1239,1239,1530,1239,3528,1239,2971,1530,1239,3739,1239,2324,1530,1239,1530,1239,2324,2971,1239,1239,2324,1530,1530,3528,1239,1530,1530,2971,1239,2324,2324,1530,2971,1530,1239,2971,1530,1530,1530,3528,3739,1530]],\"marker.size\":[{\"__ndarray__\":\"ch01Y+ViREAzlfdashlWQPf0P8vTAFtAVAHB6Y/EYUD4BifkTjtiQNBDS1pHWmRA4fEY0qm0ZEBVCiS6iblkQDz0Q0QoQ2VA0ym0jlxJZUAFP/VX/1NlQHoEZhC3eGVAED+VSUyRZUDxqiU9HeJlQIGRs5ot42ZAvGp2tkkFaECbdu8HgsBoQNfGotB29mhA2IS3OmAFakC1WnMVlCFqQG6fZ9KkaWpAgK0qWTbyakB1lSKn2SJrQBM985ThMWtA6uy5Bo6Da0DRheJJMrxrQHU+q88r0mtAM4U057Tja0DIEo9KaG1sQDnYTg8DSW1ArI0kR+x/bUBJAf9dM8ttQOnO+OO+OW5AKjNn0UI+bkBAf+EyKc9vQFYRKVut3m9Ajx2o184fcEAALpAtwThwQH1nG+2eWnBA5Up2MwRucED9Z8GR4J5wQBvz0NvrvnBAYAhJocDRcEBmZTA2cfFwQI8su0aPBHFAmn7M3G8IcUCM2zn5qiJxQCp/FVVqJXFAr72zvFMncUBriysv6DBxQHRb9c9QPHFAH6z/c3twcUDtvFOssItxQOfU/6cBlXFAscRyUWigcUCMmJ0r6qFxQCZwI5nMsnFAtVFjSxLJcUC5W9TvJtBxQK7nX2Eo3XFAccPyt6HlcUAEI+OcQQFyQKCUuYmwGXJAyEp4of4bckA/fcuMvC5yQA5HO1jtMnJAbh3vIcZUckDnKsbKd1ZyQOhbTlV4fHJA31kQzu2TckAJ9u43/8JyQH5hdvrl2XJAOyzw1/jhckA=\",\"dtype\":\"float64\",\"order\":\"little\",\"shape\":[73]}]},\"selected\":{\"id\":\"14267\"},\"selection_policy\":{\"id\":\"14268\"}},\"id\":\"13854\",\"type\":\"ColumnDataSource\"},{\"attributes\":{\"line_color\":\"#1f77b3\",\"line_width\":2,\"x\":{\"field\":\"year\"},\"y\":{\"field\":\"sale_price_sqr_foot\"}},\"id\":\"14018\",\"type\":\"Line\"},{\"attributes\":{\"margin\":[5,5,5,5],\"name\":\"VSpacer30581\",\"sizing_mode\":\"stretch_height\"},\"id\":\"14117\",\"type\":\"Spacer\"},{\"attributes\":{\"format\":\"%.0f\"},\"id\":\"14089\",\"type\":\"PrintfTickFormatter\"},{\"attributes\":{\"end\":2016.0,\"reset_end\":2016.0,\"reset_start\":2010.0,\"start\":2010.0,\"tags\":[[[\"year\",\"year\",null]]]},\"id\":\"13920\",\"type\":\"Range1d\"},{\"attributes\":{\"factors\":[\"gross_rent\",\"sale_price_sqr_foot\"],\"palette\":[\"#1f77b3\",\"#ff7e0e\"]},\"id\":\"14212\",\"type\":\"CategoricalColorMapper\"},{\"attributes\":{\"axis_label\":\"Price per Square Foot\",\"bounds\":\"auto\",\"formatter\":{\"id\":\"13961\"},\"major_label_orientation\":\"horizontal\",\"ticker\":{\"id\":\"13937\"}},\"id\":\"13936\",\"type\":\"LinearAxis\"},{\"attributes\":{\"data\":{\"housing_units\":[372560,372560,372560,372560,372560,372560,372560,372560,372560,372560,372560,372560,372560,372560,372560,372560,372560,372560,372560,372560,372560,372560,372560,372560,372560,372560,372560,372560,372560,372560,372560,372560,372560,372560,372560,372560,372560,372560,372560,372560,372560,372560,372560,372560,372560,372560,372560,372560,372560,372560,372560,372560,372560,372560,372560,372560,372560,372560,372560,374507,374507,374507,374507,374507,374507,374507,374507,374507,374507,374507,374507,374507,374507,374507,374507,374507,374507,374507,374507,374507,374507,374507,374507,374507,374507,374507,374507,374507,374507,374507,374507,374507,374507,374507,374507,374507,374507,374507,374507,374507,374507,374507,374507,374507,374507,374507,374507,374507,374507,374507,374507,374507,374507,374507,374507,374507,374507,374507,376454,376454,376454,376454,376454,376454,376454,376454,376454,376454,376454,376454,376454,376454,376454,376454,376454,376454,376454,376454,376454,376454,376454,376454,376454,376454,376454,376454,376454,376454,376454,376454,376454,376454,376454,376454,376454,376454,376454,376454,376454,376454,376454,376454,376454,376454,376454,376454,376454,376454,376454,376454,376454,376454,376454,376454,376454,376454,378401,378401,378401,378401,378401,378401,378401,378401,378401,378401,378401,378401,378401,378401,378401,378401,378401,378401,378401,378401,378401,378401,378401,378401,378401,378401,378401,378401,378401,378401,378401,378401,378401,378401,378401,378401,378401,378401,378401,378401,378401,378401,378401,378401,378401,378401,378401,378401,378401,378401,378401,378401,378401,378401,378401,378401,378401,380348,380348,380348,380348,380348,380348,380348,380348,380348,380348,380348,380348,380348,380348,380348,380348,380348,380348,380348,380348,380348,380348,380348,380348,380348,380348,380348,380348,380348,380348,380348,380348,380348,380348,380348,380348,380348,380348,380348,380348,380348,380348,380348,380348,380348,380348,380348,380348,380348,380348,380348,380348,380348,380348,380348,380348,380348,380348,380348,380348,382295,382295,382295,382295,382295,382295,382295,382295,382295,382295,382295,382295,382295,382295,382295,382295,382295,382295,382295,382295,382295,382295,382295,382295,382295,382295,382295,382295,382295,382295,382295,382295,382295,382295,382295,382295,382295,382295,382295,382295,382295,382295,382295,382295,382295,382295,382295,382295,382295,382295,382295,382295,382295,382295,382295,382295,382295,382295,384242,384242,384242,384242,384242,384242,384242,384242,384242,384242,384242,384242,384242,384242,384242,384242,384242,384242,384242,384242,384242,384242,384242,384242,384242,384242,384242,384242,384242,384242,384242,384242,384242,384242,384242,384242,384242,384242,384242,384242,384242,384242,384242,384242,384242,384242],\"year\":[\"2010\",\"2010\",\"2010\",\"2010\",\"2010\",\"2010\",\"2010\",\"2010\",\"2010\",\"2010\",\"2010\",\"2010\",\"2010\",\"2010\",\"2010\",\"2010\",\"2010\",\"2010\",\"2010\",\"2010\",\"2010\",\"2010\",\"2010\",\"2010\",\"2010\",\"2010\",\"2010\",\"2010\",\"2010\",\"2010\",\"2010\",\"2010\",\"2010\",\"2010\",\"2010\",\"2010\",\"2010\",\"2010\",\"2010\",\"2010\",\"2010\",\"2010\",\"2010\",\"2010\",\"2010\",\"2010\",\"2010\",\"2010\",\"2010\",\"2010\",\"2010\",\"2010\",\"2010\",\"2010\",\"2010\",\"2010\",\"2010\",\"2010\",\"2010\",\"2011\",\"2011\",\"2011\",\"2011\",\"2011\",\"2011\",\"2011\",\"2011\",\"2011\",\"2011\",\"2011\",\"2011\",\"2011\",\"2011\",\"2011\",\"2011\",\"2011\",\"2011\",\"2011\",\"2011\",\"2011\",\"2011\",\"2011\",\"2011\",\"2011\",\"2011\",\"2011\",\"2011\",\"2011\",\"2011\",\"2011\",\"2011\",\"2011\",\"2011\",\"2011\",\"2011\",\"2011\",\"2011\",\"2011\",\"2011\",\"2011\",\"2011\",\"2011\",\"2011\",\"2011\",\"2011\",\"2011\",\"2011\",\"2011\",\"2011\",\"2011\",\"2011\",\"2011\",\"2011\",\"2011\",\"2011\",\"2011\",\"2011\",\"2011\",\"2012\",\"2012\",\"2012\",\"2012\",\"2012\",\"2012\",\"2012\",\"2012\",\"2012\",\"2012\",\"2012\",\"2012\",\"2012\",\"2012\",\"2012\",\"2012\",\"2012\",\"2012\",\"2012\",\"2012\",\"2012\",\"2012\",\"2012\",\"2012\",\"2012\",\"2012\",\"2012\",\"2012\",\"2012\",\"2012\",\"2012\",\"2012\",\"2012\",\"2012\",\"2012\",\"2012\",\"2012\",\"2012\",\"2012\",\"2012\",\"2012\",\"2012\",\"2012\",\"2012\",\"2012\",\"2012\",\"2012\",\"2012\",\"2012\",\"2012\",\"2012\",\"2012\",\"2012\",\"2012\",\"2012\",\"2012\",\"2012\",\"2012\",\"2013\",\"2013\",\"2013\",\"2013\",\"2013\",\"2013\",\"2013\",\"2013\",\"2013\",\"2013\",\"2013\",\"2013\",\"2013\",\"2013\",\"2013\",\"2013\",\"2013\",\"2013\",\"2013\",\"2013\",\"2013\",\"2013\",\"2013\",\"2013\",\"2013\",\"2013\",\"2013\",\"2013\",\"2013\",\"2013\",\"2013\",\"2013\",\"2013\",\"2013\",\"2013\",\"2013\",\"2013\",\"2013\",\"2013\",\"2013\",\"2013\",\"2013\",\"2013\",\"2013\",\"2013\",\"2013\",\"2013\",\"2013\",\"2013\",\"2013\",\"2013\",\"2013\",\"2013\",\"2013\",\"2013\",\"2013\",\"2013\",\"2014\",\"2014\",\"2014\",\"2014\",\"2014\",\"2014\",\"2014\",\"2014\",\"2014\",\"2014\",\"2014\",\"2014\",\"2014\",\"2014\",\"2014\",\"2014\",\"2014\",\"2014\",\"2014\",\"2014\",\"2014\",\"2014\",\"2014\",\"2014\",\"2014\",\"2014\",\"2014\",\"2014\",\"2014\",\"2014\",\"2014\",\"2014\",\"2014\",\"2014\",\"2014\",\"2014\",\"2014\",\"2014\",\"2014\",\"2014\",\"2014\",\"2014\",\"2014\",\"2014\",\"2014\",\"2014\",\"2014\",\"2014\",\"2014\",\"2014\",\"2014\",\"2014\",\"2014\",\"2014\",\"2014\",\"2014\",\"2014\",\"2014\",\"2014\",\"2014\",\"2015\",\"2015\",\"2015\",\"2015\",\"2015\",\"2015\",\"2015\",\"2015\",\"2015\",\"2015\",\"2015\",\"2015\",\"2015\",\"2015\",\"2015\",\"2015\",\"2015\",\"2015\",\"2015\",\"2015\",\"2015\",\"2015\",\"2015\",\"2015\",\"2015\",\"2015\",\"2015\",\"2015\",\"2015\",\"2015\",\"2015\",\"2015\",\"2015\",\"2015\",\"2015\",\"2015\",\"2015\",\"2015\",\"2015\",\"2015\",\"2015\",\"2015\",\"2015\",\"2015\",\"2015\",\"2015\",\"2015\",\"2015\",\"2015\",\"2015\",\"2015\",\"2015\",\"2015\",\"2015\",\"2015\",\"2015\",\"2015\",\"2015\",\"2016\",\"2016\",\"2016\",\"2016\",\"2016\",\"2016\",\"2016\",\"2016\",\"2016\",\"2016\",\"2016\",\"2016\",\"2016\",\"2016\",\"2016\",\"2016\",\"2016\",\"2016\",\"2016\",\"2016\",\"2016\",\"2016\",\"2016\",\"2016\",\"2016\",\"2016\",\"2016\",\"2016\",\"2016\",\"2016\",\"2016\",\"2016\",\"2016\",\"2016\",\"2016\",\"2016\",\"2016\",\"2016\",\"2016\",\"2016\",\"2016\",\"2016\",\"2016\",\"2016\",\"2016\",\"2016\"]},\"selected\":{\"id\":\"13892\"},\"selection_policy\":{\"id\":\"13911\"}},\"id\":\"13891\",\"type\":\"ColumnDataSource\"},{\"attributes\":{},\"id\":\"14203\",\"type\":\"ResetTool\"},{\"attributes\":{\"end\":4810.690068306854,\"reset_end\":4810.690068306854,\"reset_start\":0.0,\"tags\":[[[\"value\",\"value\",null]]]},\"id\":\"14181\",\"type\":\"Range1d\"},{\"attributes\":{\"factors\":[\"2010\",\"2011\",\"2012\",\"2013\",\"2014\",\"2015\",\"2016\"],\"tags\":[[[\"year\",\"year\",null]]]},\"id\":\"13859\",\"type\":\"FactorRange\"},{\"attributes\":{},\"id\":\"14151\",\"type\":\"Selection\"},{\"attributes\":{\"child\":{\"id\":\"14251\"},\"name\":\"Column30604\",\"title\":\"Parallel Plots\"},\"id\":\"14257\",\"type\":\"Panel\"},{\"attributes\":{\"_render_count\":0,\"config\":null,\"data\":[{\"dimensions\":[{\"label\":\"neighborhood\"},{\"label\":\"year\"},{\"label\":\"sale_price_sqr_foot\"},{\"label\":\"housing_units\"},{\"label\":\"gross_rent\"}],\"domain\":{\"x\":[0.0,1.0],\"y\":[0.0,1.0]},\"line\":{\"coloraxis\":\"coloraxis\"},\"name\":\"\",\"type\":\"parcats\"}],\"data_sources\":[{\"id\":\"14253\"}],\"layout\":{\"coloraxis\":{\"colorbar\":{\"title\":{\"text\":\"sale_price_sqr_foot\"}},\"colorscale\":[[0.0,\"rgb(36, 86, 104)\"],[0.16666666666666666,\"rgb(15, 114, 121)\"],[0.3333333333333333,\"rgb(13, 143, 129)\"],[0.5,\"rgb(57, 171, 126)\"],[0.6666666666666666,\"rgb(110, 197, 116)\"],[0.8333333333333334,\"rgb(169, 220, 103)\"],[1.0,\"rgb(237, 239, 93)\"]]},\"legend\":{\"tracegroupgap\":0},\"template\":{\"data\":{\"bar\":[{\"error_x\":{\"color\":\"#2a3f5f\"},\"error_y\":{\"color\":\"#2a3f5f\"},\"marker\":{\"line\":{\"color\":\"#E5ECF6\",\"width\":0.5}},\"type\":\"bar\"}],\"barpolar\":[{\"marker\":{\"line\":{\"color\":\"#E5ECF6\",\"width\":0.5}},\"type\":\"barpolar\"}],\"carpet\":[{\"aaxis\":{\"endlinecolor\":\"#2a3f5f\",\"gridcolor\":\"white\",\"linecolor\":\"white\",\"minorgridcolor\":\"white\",\"startlinecolor\":\"#2a3f5f\"},\"baxis\":{\"endlinecolor\":\"#2a3f5f\",\"gridcolor\":\"white\",\"linecolor\":\"white\",\"minorgridcolor\":\"white\",\"startlinecolor\":\"#2a3f5f\"},\"type\":\"carpet\"}],\"choropleth\":[{\"colorbar\":{\"outlinewidth\":0,\"ticks\":\"\"},\"type\":\"choropleth\"}],\"contour\":[{\"colorbar\":{\"outlinewidth\":0,\"ticks\":\"\"},\"colorscale\":[[0.0,\"#0d0887\"],[0.1111111111111111,\"#46039f\"],[0.2222222222222222,\"#7201a8\"],[0.3333333333333333,\"#9c179e\"],[0.4444444444444444,\"#bd3786\"],[0.5555555555555556,\"#d8576b\"],[0.6666666666666666,\"#ed7953\"],[0.7777777777777778,\"#fb9f3a\"],[0.8888888888888888,\"#fdca26\"],[1.0,\"#f0f921\"]],\"type\":\"contour\"}],\"contourcarpet\":[{\"colorbar\":{\"outlinewidth\":0,\"ticks\":\"\"},\"type\":\"contourcarpet\"}],\"heatmap\":[{\"colorbar\":{\"outlinewidth\":0,\"ticks\":\"\"},\"colorscale\":[[0.0,\"#0d0887\"],[0.1111111111111111,\"#46039f\"],[0.2222222222222222,\"#7201a8\"],[0.3333333333333333,\"#9c179e\"],[0.4444444444444444,\"#bd3786\"],[0.5555555555555556,\"#d8576b\"],[0.6666666666666666,\"#ed7953\"],[0.7777777777777778,\"#fb9f3a\"],[0.8888888888888888,\"#fdca26\"],[1.0,\"#f0f921\"]],\"type\":\"heatmap\"}],\"heatmapgl\":[{\"colorbar\":{\"outlinewidth\":0,\"ticks\":\"\"},\"colorscale\":[[0.0,\"#0d0887\"],[0.1111111111111111,\"#46039f\"],[0.2222222222222222,\"#7201a8\"],[0.3333333333333333,\"#9c179e\"],[0.4444444444444444,\"#bd3786\"],[0.5555555555555556,\"#d8576b\"],[0.6666666666666666,\"#ed7953\"],[0.7777777777777778,\"#fb9f3a\"],[0.8888888888888888,\"#fdca26\"],[1.0,\"#f0f921\"]],\"type\":\"heatmapgl\"}],\"histogram\":[{\"marker\":{\"colorbar\":{\"outlinewidth\":0,\"ticks\":\"\"}},\"type\":\"histogram\"}],\"histogram2d\":[{\"colorbar\":{\"outlinewidth\":0,\"ticks\":\"\"},\"colorscale\":[[0.0,\"#0d0887\"],[0.1111111111111111,\"#46039f\"],[0.2222222222222222,\"#7201a8\"],[0.3333333333333333,\"#9c179e\"],[0.4444444444444444,\"#bd3786\"],[0.5555555555555556,\"#d8576b\"],[0.6666666666666666,\"#ed7953\"],[0.7777777777777778,\"#fb9f3a\"],[0.8888888888888888,\"#fdca26\"],[1.0,\"#f0f921\"]],\"type\":\"histogram2d\"}],\"histogram2dcontour\":[{\"colorbar\":{\"outlinewidth\":0,\"ticks\":\"\"},\"colorscale\":[[0.0,\"#0d0887\"],[0.1111111111111111,\"#46039f\"],[0.2222222222222222,\"#7201a8\"],[0.3333333333333333,\"#9c179e\"],[0.4444444444444444,\"#bd3786\"],[0.5555555555555556,\"#d8576b\"],[0.6666666666666666,\"#ed7953\"],[0.7777777777777778,\"#fb9f3a\"],[0.8888888888888888,\"#fdca26\"],[1.0,\"#f0f921\"]],\"type\":\"histogram2dcontour\"}],\"mesh3d\":[{\"colorbar\":{\"outlinewidth\":0,\"ticks\":\"\"},\"type\":\"mesh3d\"}],\"parcoords\":[{\"line\":{\"colorbar\":{\"outlinewidth\":0,\"ticks\":\"\"}},\"type\":\"parcoords\"}],\"pie\":[{\"automargin\":true,\"type\":\"pie\"}],\"scatter\":[{\"marker\":{\"colorbar\":{\"outlinewidth\":0,\"ticks\":\"\"}},\"type\":\"scatter\"}],\"scatter3d\":[{\"line\":{\"colorbar\":{\"outlinewidth\":0,\"ticks\":\"\"}},\"marker\":{\"colorbar\":{\"outlinewidth\":0,\"ticks\":\"\"}},\"type\":\"scatter3d\"}],\"scattercarpet\":[{\"marker\":{\"colorbar\":{\"outlinewidth\":0,\"ticks\":\"\"}},\"type\":\"scattercarpet\"}],\"scattergeo\":[{\"marker\":{\"colorbar\":{\"outlinewidth\":0,\"ticks\":\"\"}},\"type\":\"scattergeo\"}],\"scattergl\":[{\"marker\":{\"colorbar\":{\"outlinewidth\":0,\"ticks\":\"\"}},\"type\":\"scattergl\"}],\"scattermapbox\":[{\"marker\":{\"colorbar\":{\"outlinewidth\":0,\"ticks\":\"\"}},\"type\":\"scattermapbox\"}],\"scatterpolar\":[{\"marker\":{\"colorbar\":{\"outlinewidth\":0,\"ticks\":\"\"}},\"type\":\"scatterpolar\"}],\"scatterpolargl\":[{\"marker\":{\"colorbar\":{\"outlinewidth\":0,\"ticks\":\"\"}},\"type\":\"scatterpolargl\"}],\"scatterternary\":[{\"marker\":{\"colorbar\":{\"outlinewidth\":0,\"ticks\":\"\"}},\"type\":\"scatterternary\"}],\"surface\":[{\"colorbar\":{\"outlinewidth\":0,\"ticks\":\"\"},\"colorscale\":[[0.0,\"#0d0887\"],[0.1111111111111111,\"#46039f\"],[0.2222222222222222,\"#7201a8\"],[0.3333333333333333,\"#9c179e\"],[0.4444444444444444,\"#bd3786\"],[0.5555555555555556,\"#d8576b\"],[0.6666666666666666,\"#ed7953\"],[0.7777777777777778,\"#fb9f3a\"],[0.8888888888888888,\"#fdca26\"],[1.0,\"#f0f921\"]],\"type\":\"surface\"}],\"table\":[{\"cells\":{\"fill\":{\"color\":\"#EBF0F8\"},\"line\":{\"color\":\"white\"}},\"header\":{\"fill\":{\"color\":\"#C8D4E3\"},\"line\":{\"color\":\"white\"}},\"type\":\"table\"}]},\"layout\":{\"annotationdefaults\":{\"arrowcolor\":\"#2a3f5f\",\"arrowhead\":0,\"arrowwidth\":1},\"autotypenumbers\":\"strict\",\"coloraxis\":{\"colorbar\":{\"outlinewidth\":0,\"ticks\":\"\"}},\"colorscale\":{\"diverging\":[[0,\"#8e0152\"],[0.1,\"#c51b7d\"],[0.2,\"#de77ae\"],[0.3,\"#f1b6da\"],[0.4,\"#fde0ef\"],[0.5,\"#f7f7f7\"],[0.6,\"#e6f5d0\"],[0.7,\"#b8e186\"],[0.8,\"#7fbc41\"],[0.9,\"#4d9221\"],[1,\"#276419\"]],\"sequential\":[[0.0,\"#0d0887\"],[0.1111111111111111,\"#46039f\"],[0.2222222222222222,\"#7201a8\"],[0.3333333333333333,\"#9c179e\"],[0.4444444444444444,\"#bd3786\"],[0.5555555555555556,\"#d8576b\"],[0.6666666666666666,\"#ed7953\"],[0.7777777777777778,\"#fb9f3a\"],[0.8888888888888888,\"#fdca26\"],[1.0,\"#f0f921\"]],\"sequentialminus\":[[0.0,\"#0d0887\"],[0.1111111111111111,\"#46039f\"],[0.2222222222222222,\"#7201a8\"],[0.3333333333333333,\"#9c179e\"],[0.4444444444444444,\"#bd3786\"],[0.5555555555555556,\"#d8576b\"],[0.6666666666666666,\"#ed7953\"],[0.7777777777777778,\"#fb9f3a\"],[0.8888888888888888,\"#fdca26\"],[1.0,\"#f0f921\"]]},\"colorway\":[\"#636efa\",\"#EF553B\",\"#00cc96\",\"#ab63fa\",\"#FFA15A\",\"#19d3f3\",\"#FF6692\",\"#B6E880\",\"#FF97FF\",\"#FECB52\"],\"font\":{\"color\":\"#2a3f5f\"},\"geo\":{\"bgcolor\":\"white\",\"lakecolor\":\"white\",\"landcolor\":\"#E5ECF6\",\"showlakes\":true,\"showland\":true,\"subunitcolor\":\"white\"},\"hoverlabel\":{\"align\":\"left\"},\"hovermode\":\"closest\",\"mapbox\":{\"style\":\"light\"},\"paper_bgcolor\":\"white\",\"plot_bgcolor\":\"#E5ECF6\",\"polar\":{\"angularaxis\":{\"gridcolor\":\"white\",\"linecolor\":\"white\",\"ticks\":\"\"},\"bgcolor\":\"#E5ECF6\",\"radialaxis\":{\"gridcolor\":\"white\",\"linecolor\":\"white\",\"ticks\":\"\"}},\"scene\":{\"xaxis\":{\"backgroundcolor\":\"#E5ECF6\",\"gridcolor\":\"white\",\"gridwidth\":2,\"linecolor\":\"white\",\"showbackground\":true,\"ticks\":\"\",\"zerolinecolor\":\"white\"},\"yaxis\":{\"backgroundcolor\":\"#E5ECF6\",\"gridcolor\":\"white\",\"gridwidth\":2,\"linecolor\":\"white\",\"showbackground\":true,\"ticks\":\"\",\"zerolinecolor\":\"white\"},\"zaxis\":{\"backgroundcolor\":\"#E5ECF6\",\"gridcolor\":\"white\",\"gridwidth\":2,\"linecolor\":\"white\",\"showbackground\":true,\"ticks\":\"\",\"zerolinecolor\":\"white\"}},\"shapedefaults\":{\"line\":{\"color\":\"#2a3f5f\"}},\"ternary\":{\"aaxis\":{\"gridcolor\":\"white\",\"linecolor\":\"white\",\"ticks\":\"\"},\"baxis\":{\"gridcolor\":\"white\",\"linecolor\":\"white\",\"ticks\":\"\"},\"bgcolor\":\"#E5ECF6\",\"caxis\":{\"gridcolor\":\"white\",\"linecolor\":\"white\",\"ticks\":\"\"}},\"title\":{\"x\":0.05},\"xaxis\":{\"automargin\":true,\"gridcolor\":\"white\",\"linecolor\":\"white\",\"ticks\":\"\",\"title\":{\"standoff\":15},\"zerolinecolor\":\"white\",\"zerolinewidth\":2},\"yaxis\":{\"automargin\":true,\"gridcolor\":\"white\",\"linecolor\":\"white\",\"ticks\":\"\",\"title\":{\"standoff\":15},\"zerolinecolor\":\"white\",\"zerolinewidth\":2}}},\"title\":{\"text\":\"SFO Neighborhoods Parallel Categories Analysis\"},\"width\":1500},\"margin\":[5,5,5,5],\"name\":\"Plotly30600\",\"viewport_update_throttle\":200},\"id\":\"14254\",\"type\":\"panel.models.plotly.PlotlyPlot\"},{\"attributes\":{\"active_drag\":\"auto\",\"active_inspect\":\"auto\",\"active_multi\":null,\"active_scroll\":\"auto\",\"active_tap\":\"auto\",\"tools\":[{\"id\":\"13861\"},{\"id\":\"13878\"},{\"id\":\"13879\"},{\"id\":\"13880\"},{\"id\":\"13881\"},{\"id\":\"13882\"}]},\"id\":\"13884\",\"type\":\"Toolbar\"},{\"attributes\":{\"children\":[{\"id\":\"14259\"},{\"id\":\"14261\"}],\"margin\":[0,0,0,0],\"name\":\"Column30614\"},\"id\":\"14258\",\"type\":\"Column\"},{\"attributes\":{\"margin\":[20,20,20,20],\"min_width\":250,\"options\":[\"Alamo Square\",\"Anza Vista\",\"Bayview\",\"Buena Vista Park\",\"Central Richmond\",\"Central Sunset\",\"Corona Heights\",\"Cow Hollow\",\"Croker Amazon\",\"Diamond Heights\",\"Downtown \",\"Eureka Valley/Dolores Heights\",\"Excelsior\",\"Financial District North\",\"Financial District South\",\"Forest Knolls\",\"Glen Park\",\"Golden Gate Heights\",\"Haight Ashbury\",\"Hayes Valley\",\"Hunters Point\",\"Ingleside \",\"Inner Mission\",\"Inner Parkside\",\"Inner Richmond\",\"Inner Sunset\",\"Jordan Park/Laurel Heights\",\"Lake --The Presidio\",\"Lone Mountain\",\"Lower Pacific Heights\",\"Marina\",\"Miraloma Park\",\"Mission Bay\",\"Mission Dolores\",\"Mission Terrace\",\"Nob Hill\",\"Noe Valley\",\"Oceanview\",\"Outer Parkside\",\"Outer Richmond \",\"Outer Sunset\",\"Pacific Heights\",\"Park North\",\"Parkside\",\"Parnassus/Ashbury Heights\",\"Portola\",\"Potrero Hill\",\"Presidio Heights\",\"Russian Hill\",\"South Beach\",\"South of Market\",\"Sunnyside\",\"Telegraph Hill\",\"Twin Peaks\",\"Union Square District\",\"Van Ness/ Civic Center\",\"West Portal\",\"Western Addition\",\"Yerba Buena\",\"Bernal Heights \",\"Clarendon Heights\",\"Duboce Triangle\",\"Ingleside Heights\",\"North Beach\",\"North Waterfront\",\"Outer Mission\",\"Westwood Highlands\",\"Merced Heights\",\"Midtown Terrace\",\"Visitacion Valley\",\"Silver Terrace\",\"Westwood Park\",\"Bayview Heights\"],\"title\":\"neighborhood\",\"value\":\"Alamo Square\",\"width\":250},\"id\":\"14116\",\"type\":\"Select\"},{\"attributes\":{},\"id\":\"13882\",\"type\":\"ResetTool\"},{\"attributes\":{\"margin\":[5,5,5,5],\"name\":\"VSpacer30595\",\"sizing_mode\":\"stretch_height\"},\"id\":\"14249\",\"type\":\"Spacer\"},{\"attributes\":{\"end\":4705.1,\"reset_end\":4705.1,\"reset_start\":923.9,\"start\":923.9,\"tags\":[[[\"gross_rent\",\"gross_rent\",null]]]},\"id\":\"13921\",\"type\":\"Range1d\"},{\"attributes\":{\"callback\":null,\"renderers\":[{\"id\":\"14219\"}],\"tags\":[\"hv_created\"],\"tooltips\":[[\"year\",\"@{year}\"],[\"Variable\",\"@{Variable}\"],[\"value\",\"@{value}\"]]},\"id\":\"14182\",\"type\":\"HoverTool\"},{\"attributes\":{},\"id\":\"13937\",\"type\":\"BasicTicker\"},{\"attributes\":{\"bottom_units\":\"screen\",\"fill_alpha\":0.5,\"fill_color\":\"lightgrey\",\"left_units\":\"screen\",\"level\":\"overlay\",\"line_alpha\":1.0,\"line_color\":\"black\",\"line_dash\":[4,4],\"line_width\":2,\"right_units\":\"screen\",\"top_units\":\"screen\"},\"id\":\"14204\",\"type\":\"BoxAnnotation\"},{\"attributes\":{\"child\":{\"id\":\"13852\"},\"name\":\"Column30609\",\"title\":\"Introduction\"},\"id\":\"13856\",\"type\":\"Panel\"},{\"attributes\":{\"css_classes\":[\"markdown\"],\"margin\":[5,5,5,5],\"name\":\"Markdown30598\",\"text\":\"&lt;h2&gt;Neighborhood Analysis cont.&lt;/h2&gt;\"},\"id\":\"14252\",\"type\":\"panel.models.markup.HTML\"},{\"attributes\":{\"fill_alpha\":{\"value\":0.1},\"fill_color\":{\"value\":\"#1f77b3\"},\"line_alpha\":{\"value\":0.1},\"top\":{\"field\":\"sale_price_sqr_foot\"},\"width\":{\"value\":0.8},\"x\":{\"field\":\"neighborhood\"}},\"id\":\"14154\",\"type\":\"VBar\"},{\"attributes\":{},\"id\":\"13954\",\"type\":\"Selection\"},{\"attributes\":{\"text\":\"Average Gross Rent by Year\",\"text_color\":{\"value\":\"black\"},\"text_font_size\":{\"value\":\"12pt\"}},\"id\":\"13924\",\"type\":\"Title\"},{\"attributes\":{\"active_drag\":\"auto\",\"active_inspect\":\"auto\",\"active_multi\":null,\"active_scroll\":\"auto\",\"active_tap\":\"auto\",\"tools\":[{\"id\":\"14182\"},{\"id\":\"14199\"},{\"id\":\"14200\"},{\"id\":\"14201\"},{\"id\":\"14202\"},{\"id\":\"14203\"}]},\"id\":\"14205\",\"type\":\"Toolbar\"},{\"attributes\":{\"below\":[{\"id\":\"13932\"}],\"center\":[{\"id\":\"13935\"},{\"id\":\"13939\"}],\"left\":[{\"id\":\"13936\"}],\"margin\":[5,5,5,5],\"min_border_bottom\":10,\"min_border_left\":10,\"min_border_right\":10,\"min_border_top\":10,\"plot_height\":300,\"plot_width\":500,\"renderers\":[{\"id\":\"13959\"}],\"sizing_mode\":\"fixed\",\"title\":{\"id\":\"13924\"},\"toolbar\":{\"id\":\"13946\"},\"x_range\":{\"id\":\"13920\"},\"x_scale\":{\"id\":\"13928\"},\"y_range\":{\"id\":\"13921\"},\"y_scale\":{\"id\":\"13930\"}},\"id\":\"13923\",\"subtype\":\"Figure\",\"type\":\"Plot\"},{\"attributes\":{\"children\":[{\"id\":\"13858\"},{\"id\":\"13862\"},{\"id\":\"13923\"},{\"id\":\"13985\"}],\"margin\":[0,0,0,0],\"name\":\"Column30385\"},\"id\":\"13857\",\"type\":\"Column\"},{\"attributes\":{\"_render_count\":0,\"config\":null,\"data\":[{\"branchvalues\":\"total\",\"domain\":{\"x\":[0.0,1.0],\"y\":[0.0,1.0]},\"hovertemplate\":\"labels=%{label}<br>sale_price_sqr_foot=%{value}<br>parent=%{parent}<br>id=%{id}<br>gross_rent=%{color}<extra></extra>\",\"marker\":{\"coloraxis\":\"coloraxis\"},\"name\":\"\",\"type\":\"sunburst\"}],\"data_sources\":[{\"id\":\"14260\"}],\"layout\":{\"coloraxis\":{\"colorbar\":{\"title\":{\"text\":\"gross_rent\"}},\"colorscale\":[[0.0,\"rgb(247,251,255)\"],[0.125,\"rgb(222,235,247)\"],[0.25,\"rgb(198,219,239)\"],[0.375,\"rgb(158,202,225)\"],[0.5,\"rgb(107,174,214)\"],[0.625,\"rgb(66,146,198)\"],[0.75,\"rgb(33,113,181)\"],[0.875,\"rgb(8,81,156)\"],[1.0,\"rgb(8,48,107)\"]]},\"height\":1000,\"legend\":{\"tracegroupgap\":0},\"template\":{\"data\":{\"bar\":[{\"error_x\":{\"color\":\"#2a3f5f\"},\"error_y\":{\"color\":\"#2a3f5f\"},\"marker\":{\"line\":{\"color\":\"#E5ECF6\",\"width\":0.5}},\"type\":\"bar\"}],\"barpolar\":[{\"marker\":{\"line\":{\"color\":\"#E5ECF6\",\"width\":0.5}},\"type\":\"barpolar\"}],\"carpet\":[{\"aaxis\":{\"endlinecolor\":\"#2a3f5f\",\"gridcolor\":\"white\",\"linecolor\":\"white\",\"minorgridcolor\":\"white\",\"startlinecolor\":\"#2a3f5f\"},\"baxis\":{\"endlinecolor\":\"#2a3f5f\",\"gridcolor\":\"white\",\"linecolor\":\"white\",\"minorgridcolor\":\"white\",\"startlinecolor\":\"#2a3f5f\"},\"type\":\"carpet\"}],\"choropleth\":[{\"colorbar\":{\"outlinewidth\":0,\"ticks\":\"\"},\"type\":\"choropleth\"}],\"contour\":[{\"colorbar\":{\"outlinewidth\":0,\"ticks\":\"\"},\"colorscale\":[[0.0,\"#0d0887\"],[0.1111111111111111,\"#46039f\"],[0.2222222222222222,\"#7201a8\"],[0.3333333333333333,\"#9c179e\"],[0.4444444444444444,\"#bd3786\"],[0.5555555555555556,\"#d8576b\"],[0.6666666666666666,\"#ed7953\"],[0.7777777777777778,\"#fb9f3a\"],[0.8888888888888888,\"#fdca26\"],[1.0,\"#f0f921\"]],\"type\":\"contour\"}],\"contourcarpet\":[{\"colorbar\":{\"outlinewidth\":0,\"ticks\":\"\"},\"type\":\"contourcarpet\"}],\"heatmap\":[{\"colorbar\":{\"outlinewidth\":0,\"ticks\":\"\"},\"colorscale\":[[0.0,\"#0d0887\"],[0.1111111111111111,\"#46039f\"],[0.2222222222222222,\"#7201a8\"],[0.3333333333333333,\"#9c179e\"],[0.4444444444444444,\"#bd3786\"],[0.5555555555555556,\"#d8576b\"],[0.6666666666666666,\"#ed7953\"],[0.7777777777777778,\"#fb9f3a\"],[0.8888888888888888,\"#fdca26\"],[1.0,\"#f0f921\"]],\"type\":\"heatmap\"}],\"heatmapgl\":[{\"colorbar\":{\"outlinewidth\":0,\"ticks\":\"\"},\"colorscale\":[[0.0,\"#0d0887\"],[0.1111111111111111,\"#46039f\"],[0.2222222222222222,\"#7201a8\"],[0.3333333333333333,\"#9c179e\"],[0.4444444444444444,\"#bd3786\"],[0.5555555555555556,\"#d8576b\"],[0.6666666666666666,\"#ed7953\"],[0.7777777777777778,\"#fb9f3a\"],[0.8888888888888888,\"#fdca26\"],[1.0,\"#f0f921\"]],\"type\":\"heatmapgl\"}],\"histogram\":[{\"marker\":{\"colorbar\":{\"outlinewidth\":0,\"ticks\":\"\"}},\"type\":\"histogram\"}],\"histogram2d\":[{\"colorbar\":{\"outlinewidth\":0,\"ticks\":\"\"},\"colorscale\":[[0.0,\"#0d0887\"],[0.1111111111111111,\"#46039f\"],[0.2222222222222222,\"#7201a8\"],[0.3333333333333333,\"#9c179e\"],[0.4444444444444444,\"#bd3786\"],[0.5555555555555556,\"#d8576b\"],[0.6666666666666666,\"#ed7953\"],[0.7777777777777778,\"#fb9f3a\"],[0.8888888888888888,\"#fdca26\"],[1.0,\"#f0f921\"]],\"type\":\"histogram2d\"}],\"histogram2dcontour\":[{\"colorbar\":{\"outlinewidth\":0,\"ticks\":\"\"},\"colorscale\":[[0.0,\"#0d0887\"],[0.1111111111111111,\"#46039f\"],[0.2222222222222222,\"#7201a8\"],[0.3333333333333333,\"#9c179e\"],[0.4444444444444444,\"#bd3786\"],[0.5555555555555556,\"#d8576b\"],[0.6666666666666666,\"#ed7953\"],[0.7777777777777778,\"#fb9f3a\"],[0.8888888888888888,\"#fdca26\"],[1.0,\"#f0f921\"]],\"type\":\"histogram2dcontour\"}],\"mesh3d\":[{\"colorbar\":{\"outlinewidth\":0,\"ticks\":\"\"},\"type\":\"mesh3d\"}],\"parcoords\":[{\"line\":{\"colorbar\":{\"outlinewidth\":0,\"ticks\":\"\"}},\"type\":\"parcoords\"}],\"pie\":[{\"automargin\":true,\"type\":\"pie\"}],\"scatter\":[{\"marker\":{\"colorbar\":{\"outlinewidth\":0,\"ticks\":\"\"}},\"type\":\"scatter\"}],\"scatter3d\":[{\"line\":{\"colorbar\":{\"outlinewidth\":0,\"ticks\":\"\"}},\"marker\":{\"colorbar\":{\"outlinewidth\":0,\"ticks\":\"\"}},\"type\":\"scatter3d\"}],\"scattercarpet\":[{\"marker\":{\"colorbar\":{\"outlinewidth\":0,\"ticks\":\"\"}},\"type\":\"scattercarpet\"}],\"scattergeo\":[{\"marker\":{\"colorbar\":{\"outlinewidth\":0,\"ticks\":\"\"}},\"type\":\"scattergeo\"}],\"scattergl\":[{\"marker\":{\"colorbar\":{\"outlinewidth\":0,\"ticks\":\"\"}},\"type\":\"scattergl\"}],\"scattermapbox\":[{\"marker\":{\"colorbar\":{\"outlinewidth\":0,\"ticks\":\"\"}},\"type\":\"scattermapbox\"}],\"scatterpolar\":[{\"marker\":{\"colorbar\":{\"outlinewidth\":0,\"ticks\":\"\"}},\"type\":\"scatterpolar\"}],\"scatterpolargl\":[{\"marker\":{\"colorbar\":{\"outlinewidth\":0,\"ticks\":\"\"}},\"type\":\"scatterpolargl\"}],\"scatterternary\":[{\"marker\":{\"colorbar\":{\"outlinewidth\":0,\"ticks\":\"\"}},\"type\":\"scatterternary\"}],\"surface\":[{\"colorbar\":{\"outlinewidth\":0,\"ticks\":\"\"},\"colorscale\":[[0.0,\"#0d0887\"],[0.1111111111111111,\"#46039f\"],[0.2222222222222222,\"#7201a8\"],[0.3333333333333333,\"#9c179e\"],[0.4444444444444444,\"#bd3786\"],[0.5555555555555556,\"#d8576b\"],[0.6666666666666666,\"#ed7953\"],[0.7777777777777778,\"#fb9f3a\"],[0.8888888888888888,\"#fdca26\"],[1.0,\"#f0f921\"]],\"type\":\"surface\"}],\"table\":[{\"cells\":{\"fill\":{\"color\":\"#EBF0F8\"},\"line\":{\"color\":\"white\"}},\"header\":{\"fill\":{\"color\":\"#C8D4E3\"},\"line\":{\"color\":\"white\"}},\"type\":\"table\"}]},\"layout\":{\"annotationdefaults\":{\"arrowcolor\":\"#2a3f5f\",\"arrowhead\":0,\"arrowwidth\":1},\"autotypenumbers\":\"strict\",\"coloraxis\":{\"colorbar\":{\"outlinewidth\":0,\"ticks\":\"\"}},\"colorscale\":{\"diverging\":[[0,\"#8e0152\"],[0.1,\"#c51b7d\"],[0.2,\"#de77ae\"],[0.3,\"#f1b6da\"],[0.4,\"#fde0ef\"],[0.5,\"#f7f7f7\"],[0.6,\"#e6f5d0\"],[0.7,\"#b8e186\"],[0.8,\"#7fbc41\"],[0.9,\"#4d9221\"],[1,\"#276419\"]],\"sequential\":[[0.0,\"#0d0887\"],[0.1111111111111111,\"#46039f\"],[0.2222222222222222,\"#7201a8\"],[0.3333333333333333,\"#9c179e\"],[0.4444444444444444,\"#bd3786\"],[0.5555555555555556,\"#d8576b\"],[0.6666666666666666,\"#ed7953\"],[0.7777777777777778,\"#fb9f3a\"],[0.8888888888888888,\"#fdca26\"],[1.0,\"#f0f921\"]],\"sequentialminus\":[[0.0,\"#0d0887\"],[0.1111111111111111,\"#46039f\"],[0.2222222222222222,\"#7201a8\"],[0.3333333333333333,\"#9c179e\"],[0.4444444444444444,\"#bd3786\"],[0.5555555555555556,\"#d8576b\"],[0.6666666666666666,\"#ed7953\"],[0.7777777777777778,\"#fb9f3a\"],[0.8888888888888888,\"#fdca26\"],[1.0,\"#f0f921\"]]},\"colorway\":[\"#636efa\",\"#EF553B\",\"#00cc96\",\"#ab63fa\",\"#FFA15A\",\"#19d3f3\",\"#FF6692\",\"#B6E880\",\"#FF97FF\",\"#FECB52\"],\"font\":{\"color\":\"#2a3f5f\"},\"geo\":{\"bgcolor\":\"white\",\"lakecolor\":\"white\",\"landcolor\":\"#E5ECF6\",\"showlakes\":true,\"showland\":true,\"subunitcolor\":\"white\"},\"hoverlabel\":{\"align\":\"left\"},\"hovermode\":\"closest\",\"mapbox\":{\"style\":\"light\"},\"paper_bgcolor\":\"white\",\"plot_bgcolor\":\"#E5ECF6\",\"polar\":{\"angularaxis\":{\"gridcolor\":\"white\",\"linecolor\":\"white\",\"ticks\":\"\"},\"bgcolor\":\"#E5ECF6\",\"radialaxis\":{\"gridcolor\":\"white\",\"linecolor\":\"white\",\"ticks\":\"\"}},\"scene\":{\"xaxis\":{\"backgroundcolor\":\"#E5ECF6\",\"gridcolor\":\"white\",\"gridwidth\":2,\"linecolor\":\"white\",\"showbackground\":true,\"ticks\":\"\",\"zerolinecolor\":\"white\"},\"yaxis\":{\"backgroundcolor\":\"#E5ECF6\",\"gridcolor\":\"white\",\"gridwidth\":2,\"linecolor\":\"white\",\"showbackground\":true,\"ticks\":\"\",\"zerolinecolor\":\"white\"},\"zaxis\":{\"backgroundcolor\":\"#E5ECF6\",\"gridcolor\":\"white\",\"gridwidth\":2,\"linecolor\":\"white\",\"showbackground\":true,\"ticks\":\"\",\"zerolinecolor\":\"white\"}},\"shapedefaults\":{\"line\":{\"color\":\"#2a3f5f\"}},\"ternary\":{\"aaxis\":{\"gridcolor\":\"white\",\"linecolor\":\"white\",\"ticks\":\"\"},\"baxis\":{\"gridcolor\":\"white\",\"linecolor\":\"white\",\"ticks\":\"\"},\"bgcolor\":\"#E5ECF6\",\"caxis\":{\"gridcolor\":\"white\",\"linecolor\":\"white\",\"ticks\":\"\"}},\"title\":{\"x\":0.05},\"xaxis\":{\"automargin\":true,\"gridcolor\":\"white\",\"linecolor\":\"white\",\"ticks\":\"\",\"title\":{\"standoff\":15},\"zerolinecolor\":\"white\",\"zerolinewidth\":2},\"yaxis\":{\"automargin\":true,\"gridcolor\":\"white\",\"linecolor\":\"white\",\"ticks\":\"\",\"title\":{\"standoff\":15},\"zerolinecolor\":\"white\",\"zerolinewidth\":2}}},\"title\":{\"text\":\"Cost Analysts of Most Expensive neighborhoods in San Francisco by Year\"},\"width\":1000},\"margin\":[5,5,5,5],\"name\":\"Plotly30612\",\"viewport_update_throttle\":200},\"id\":\"14261\",\"type\":\"panel.models.plotly.PlotlyPlot\"},{\"attributes\":{\"data\":{\"gross_rent\":[1239,1530,2324,2971,3528,3739,4390],\"year\":[2010,2011,2012,2013,2014,2015,2016]},\"selected\":{\"id\":\"13954\"},\"selection_policy\":{\"id\":\"13973\"}},\"id\":\"13953\",\"type\":\"ColumnDataSource\"},{\"attributes\":{},\"id\":\"14105\",\"type\":\"UnionRenderers\"},{\"attributes\":{\"below\":[{\"id\":\"14130\"}],\"center\":[{\"id\":\"14132\"},{\"id\":\"14136\"}],\"left\":[{\"id\":\"14133\"}],\"margin\":[5,5,5,5],\"min_border_bottom\":10,\"min_border_left\":10,\"min_border_right\":10,\"min_border_top\":10,\"plot_height\":300,\"plot_width\":500,\"renderers\":[{\"id\":\"14156\"}],\"sizing_mode\":\"fixed\",\"title\":{\"id\":\"14122\"},\"toolbar\":{\"id\":\"14143\"},\"x_range\":{\"id\":\"14118\"},\"x_scale\":{\"id\":\"14126\"},\"y_range\":{\"id\":\"13983\"},\"y_scale\":{\"id\":\"14128\"}},\"id\":\"14121\",\"subtype\":\"Figure\",\"type\":\"Plot\"},{\"attributes\":{\"data\":{\"dimensions.0.values\":[{\"__ndarray__\":\"AAAAAAByn0AAAAAAAHifQAAAAAAAb59AAAAAAAB0n0AAAAAAAHyfQAAAAAAAdJ9AAAAAAAB0n0AAAAAAAHSfQAAAAAAAdJ9Aq6qqqqpun0A=\",\"dtype\":\"float64\",\"order\":\"little\",\"shape\":[10]}],\"dimensions.1.values\":[{\"__ndarray__\":\"JRAUMfI/jEB9IrkvwqaIQFx/3pp8XohAFpsVUHKMhUBs0ERas3iFQL0KhXgNJIVAy835O80ahUANV25bts+EQJrMCuEbsIRAya3y7v5QhEA=\",\"dtype\":\"float64\",\"order\":\"little\",\"shape\":[10]}],\"dimensions.2.values\":[{\"__ndarray__\":\"AAAAAE4JF0EAAAAA8DYXQQAAAAB98hZBAAAAAIQYF0EAAAAAXFUXQQAAAACEGBdBAAAAAIQYF0EAAAAAhBgXQQAAAACEGBdBAAAAAPTvFkE=\",\"dtype\":\"float64\",\"order\":\"little\",\"shape\":[10]}],\"dimensions.3.values\":[{\"__ndarray__\":\"VVVVVVX2o0AAAAAAAKyqQAAAAACA1qBASZIkSZICpkAAAAAAAO6uQEmSJEmSAqZASZIkSZICpkBJkiRJkgKmQEmSJEmSAqZAAAAAAABmoEA=\",\"dtype\":\"float64\",\"order\":\"little\",\"shape\":[10]}],\"line.color\":[{\"__ndarray__\":\"JRAUMfI/jEB9IrkvwqaIQFx/3pp8XohAFpsVUHKMhUBs0ERas3iFQL0KhXgNJIVAy835O80ahUANV25bts+EQJrMCuEbsIRAya3y7v5QhEA=\",\"dtype\":\"float64\",\"order\":\"little\",\"shape\":[10]}]},\"selected\":{\"id\":\"14285\"},\"selection_policy\":{\"id\":\"14286\"}},\"id\":\"14255\",\"type\":\"ColumnDataSource\"},{\"attributes\":{\"data\":{\"customdata\":[{\"__ndarray__\":\"AAAAAADol0AAAAAAADanQAAAAAAAJrFAAAAAAADol0AAAAAAAJCrQAAAAAAANq1AAAAAAABck0AAAAAAACiiQAAAAAAANqdAAAAAAAAmsUAAAAAAACiiQP//////j6tAAAAAAAAmsUAAAAAAACiiQAAAAAAAXJNAAAAAAADol0AAAAAAAFyTQAAAAAAANqdAAAAAAADol0AAAAAAACiiQAAAAAAANq1AAAAAAACQq0AAAAAAADatQAAAAAAANqdAAAAAAAA2rUAAAAAAACaxQAAAAAAANqdAAAAAAABck0AAAAAAACiiQAAAAAAAkKtAAAAAAADol0AAAAAAACiiQAAAAAAANqdAAAAAAAAookAAAAAAADatQAAAAAAAJrFAAAAAAABck0AAAAAAAOiXQAAAAAAAKKJAAAAAAACQq0AAAAAAADatQAAAAAAAJrFAAAAAAADol0AAAAAAACiiQAAAAAAAkKtAAAAAAAAmsUAAAAAAAOiXQAAAAAAAkKtAAAAAAAA2rUAAAAAAAFyTQAAAAAAA6JdAAAAAAAAmsUAAAAAAAJCrQAAAAAAAJrFAAAAAAABck0AAAAAAAJCrQAAAAAAAXJNAAAAAAABck0AAAAAAAOiXQAAAAAAANqdAAAAAAAA2rUAAAAAAACaxQAAAAAAAXJNAAAAAAAA2p0ABAAAAADatQAEAAAAANqdA//////+Pq0AAAAAAACiiQAEAAAAANqdAAAAAAAA2rUABAAAAAFyTQP//////55dAAAAAAAAookAAAAAAADanQAAAAAAAkKtA/v////81rUD//////yWxQA==\",\"dtype\":\"float64\",\"order\":\"little\",\"shape\":[77,1]}],\"ids\":[[\"2011/Bernal Heights \",\"2013/Bernal Heights \",\"2016/Bernal Heights \",\"2011/Clarendon Heights\",\"2014/Corona Heights\",\"2015/Corona Heights\",\"2010/Cow Hollow\",\"2012/Cow Hollow\",\"2013/Cow Hollow\",\"2016/Cow Hollow\",\"2012/Eureka Valley/Dolores Heights\",\"2014/Eureka Valley/Dolores Heights\",\"2016/Eureka Valley/Dolores Heights\",\"2012/Financial District South\",\"2010/Glen Park\",\"2011/Glen Park\",\"2010/Golden Gate Heights\",\"2013/Golden Gate Heights\",\"2011/Jordan Park/Laurel Heights\",\"2012/Lone Mountain\",\"2015/Lone Mountain\",\"2014/Lower Pacific Heights\",\"2015/Lower Pacific Heights\",\"2013/Marina\",\"2015/Marina\",\"2016/Merced Heights\",\"2013/Midtown Terrace\",\"2010/Miraloma Park\",\"2012/Miraloma Park\",\"2014/Miraloma Park\",\"2011/Mission Bay\",\"2012/Mission Bay\",\"2013/Noe Valley\",\"2012/North Beach\",\"2015/North Waterfront\",\"2016/Outer Richmond \",\"2010/Pacific Heights\",\"2011/Pacific Heights\",\"2012/Pacific Heights\",\"2014/Pacific Heights\",\"2015/Pacific Heights\",\"2016/Pacific Heights\",\"2011/Parnassus/Ashbury Heights\",\"2012/Parnassus/Ashbury Heights\",\"2014/Parnassus/Ashbury Heights\",\"2016/Parnassus/Ashbury Heights\",\"2011/Potrero Hill\",\"2014/Potrero Hill\",\"2015/Potrero Hill\",\"2010/Presidio Heights\",\"2011/Presidio Heights\",\"2016/Presidio Heights\",\"2014/Russian Hill\",\"2016/Russian Hill\",\"2010/South Beach\",\"2014/South of Market\",\"2010/Sunnyside\",\"2010/Telegraph Hill\",\"2011/Telegraph Hill\",\"2013/Telegraph Hill\",\"2015/Telegraph Hill\",\"2016/Twin Peaks\",\"2010/Union Square District\",\"2013/Union Square District\",\"2015/Union Square District\",\"2013/Westwood Highlands\",\"2014/Westwood Park\",\"2012/Yerba Buena\",\"2013/Yerba Buena\",\"2015/Yerba Buena\",\"2010\",\"2011\",\"2012\",\"2013\",\"2014\",\"2015\",\"2016\"]],\"labels\":[[\"Bernal Heights \",\"Bernal Heights \",\"Bernal Heights \",\"Clarendon Heights\",\"Corona Heights\",\"Corona Heights\",\"Cow Hollow\",\"Cow Hollow\",\"Cow Hollow\",\"Cow Hollow\",\"Eureka Valley/Dolores Heights\",\"Eureka Valley/Dolores Heights\",\"Eureka Valley/Dolores Heights\",\"Financial District South\",\"Glen Park\",\"Glen Park\",\"Golden Gate Heights\",\"Golden Gate Heights\",\"Jordan Park/Laurel Heights\",\"Lone Mountain\",\"Lone Mountain\",\"Lower Pacific Heights\",\"Lower Pacific Heights\",\"Marina\",\"Marina\",\"Merced Heights\",\"Midtown Terrace\",\"Miraloma Park\",\"Miraloma Park\",\"Miraloma Park\",\"Mission Bay\",\"Mission Bay\",\"Noe Valley\",\"North Beach\",\"North Waterfront\",\"Outer Richmond \",\"Pacific Heights\",\"Pacific Heights\",\"Pacific Heights\",\"Pacific Heights\",\"Pacific Heights\",\"Pacific Heights\",\"Parnassus/Ashbury Heights\",\"Parnassus/Ashbury Heights\",\"Parnassus/Ashbury Heights\",\"Parnassus/Ashbury Heights\",\"Potrero Hill\",\"Potrero Hill\",\"Potrero Hill\",\"Presidio Heights\",\"Presidio Heights\",\"Presidio Heights\",\"Russian Hill\",\"Russian Hill\",\"South Beach\",\"South of Market\",\"Sunnyside\",\"Telegraph Hill\",\"Telegraph Hill\",\"Telegraph Hill\",\"Telegraph Hill\",\"Twin Peaks\",\"Union Square District\",\"Union Square District\",\"Union Square District\",\"Westwood Highlands\",\"Westwood Park\",\"Yerba Buena\",\"Yerba Buena\",\"Yerba Buena\",\"2010\",\"2011\",\"2012\",\"2013\",\"2014\",\"2015\",\"2016\"]],\"marker.colors\":[{\"__ndarray__\":\"AAAAAADol0AAAAAAADanQAAAAAAAJrFAAAAAAADol0AAAAAAAJCrQAAAAAAANq1AAAAAAABck0AAAAAAACiiQAAAAAAANqdAAAAAAAAmsUAAAAAAACiiQP//////j6tAAAAAAAAmsUAAAAAAACiiQAAAAAAAXJNAAAAAAADol0AAAAAAAFyTQAAAAAAANqdAAAAAAADol0AAAAAAACiiQAAAAAAANq1AAAAAAACQq0AAAAAAADatQAAAAAAANqdAAAAAAAA2rUAAAAAAACaxQAAAAAAANqdAAAAAAABck0AAAAAAACiiQAAAAAAAkKtAAAAAAADol0AAAAAAACiiQAAAAAAANqdAAAAAAAAookAAAAAAADatQAAAAAAAJrFAAAAAAABck0AAAAAAAOiXQAAAAAAAKKJAAAAAAACQq0AAAAAAADatQAAAAAAAJrFAAAAAAADol0AAAAAAACiiQAAAAAAAkKtAAAAAAAAmsUAAAAAAAOiXQAAAAAAAkKtAAAAAAAA2rUAAAAAAAFyTQAAAAAAA6JdAAAAAAAAmsUAAAAAAAJCrQAAAAAAAJrFAAAAAAABck0AAAAAAAJCrQAAAAAAAXJNAAAAAAABck0AAAAAAAOiXQAAAAAAANqdAAAAAAAA2rUAAAAAAACaxQAAAAAAAXJNAAAAAAAA2p0ABAAAAADatQAEAAAAANqdA//////+Pq0AAAAAAACiiQAEAAAAANqdAAAAAAAA2rUABAAAAAFyTQP//////55dAAAAAAAAookAAAAAAADanQAAAAAAAkKtA/v////81rUD//////yWxQA==\",\"dtype\":\"float64\",\"order\":\"little\",\"shape\":[77]}],\"parents\":[[\"2011\",\"2013\",\"2016\",\"2011\",\"2014\",\"2015\",\"2010\",\"2012\",\"2013\",\"2016\",\"2012\",\"2014\",\"2016\",\"2012\",\"2010\",\"2011\",\"2010\",\"2013\",\"2011\",\"2012\",\"2015\",\"2014\",\"2015\",\"2013\",\"2015\",\"2016\",\"2013\",\"2010\",\"2012\",\"2014\",\"2011\",\"2012\",\"2013\",\"2012\",\"2015\",\"2016\",\"2010\",\"2011\",\"2012\",\"2014\",\"2015\",\"2016\",\"2011\",\"2012\",\"2014\",\"2016\",\"2011\",\"2014\",\"2015\",\"2010\",\"2011\",\"2016\",\"2014\",\"2016\",\"2010\",\"2014\",\"2010\",\"2010\",\"2011\",\"2013\",\"2015\",\"2016\",\"2010\",\"2013\",\"2015\",\"2013\",\"2014\",\"2012\",\"2013\",\"2015\",\"\",\"\",\"\",\"\",\"\",\"\",\"\"]],\"values\":[{\"__ndarray__\":\"HjEmar9+fUAnxvWsLbeDQGwor6G81o5A2UWezr5FgEATHqkHdcGLQI1trC4qM5FALMKfLArLgUAJ2F7kiyaEQDDg3fM4G4ZAlnINLUOMkEAcFFfhgWaAQKp0Q3XWx4ZAgjgXGCoLkEAi70qZvi6DQGgfdQaxXIZADiokRZ+WfEBdWPywaD6BQNRj6RR54Y1AJyxLICIWg0AH7yxy1w+BQM1gj19OsoxAOw1yFwNjhkAKZ36YTwCJQKzf1JaVeYRAjaILdVmzkUCsqqqqqiKWQOm79Qyn+IVAnv5hrd5EhUCiM5n6iaGHQFxJbJcQz5NAOH5UGzyvf0AwyWS+L4yFQCPYk+2COINAvu1bUGMpgEDjisnYRteLQKC/au2UspJAxNYMmEEIf0BGT3H7V9B/QLX7Z+e+UYJA2iErAUXFiUBYm7NjgHGMQJLYpGodI49A8hKm6OIpfUCMC6FbXh+AQPqFl8M/K4hAYp+hbP3fkkC1zY5QN3J/QBrjDWLOVJBAXeexbWiqiUDWpFbsVyuBQKJctOYJ3X5AhyUc1d/nlkBeOprOxlGGQPmHwAhcAZBAl7v/LmY0kEC8oacCW3+RQH+kfOJA9IBACOpLG1lmgEAS2VILfjZ+QDNB5DB+aoRA99S3+Osnj0AKr/AKr1COQOCHNy6MyYFAML7sb+MplEAJf5jZZ6WhQGkF4BWrWodAhgoZedY3h0AQ8A8oBr1+QGar3V8XiIdA6/wjTC4cjkDM+nm67Vy4QDDy8WzFn7NAhRYzJkz+tkCH3bLZ9B++QJGCkUnOOsFAO6xO6cgUxUBKV2tWZSvGQA==\",\"dtype\":\"float64\",\"order\":\"little\",\"shape\":[77]}]},\"selected\":{\"id\":\"14287\"},\"selection_policy\":{\"id\":\"14288\"}},\"id\":\"14260\",\"type\":\"ColumnDataSource\"},{\"attributes\":{\"end\":929.3801355198136,\"reset_end\":733.2177371101802,\"reset_start\":306.3294011864627,\"start\":0.0,\"tags\":[[[\"sale_price_sqr_foot\",\"sale_price_sqr_foot\",null]]]},\"id\":\"13983\",\"type\":\"Range1d\"},{\"attributes\":{\"child\":{\"id\":\"14045\"},\"name\":\"Column30597\",\"title\":\"Neighborhood Analysis\"},\"id\":\"14250\",\"type\":\"Panel\"},{\"attributes\":{},\"id\":\"14222\",\"type\":\"CategoricalTickFormatter\"},{\"attributes\":{\"below\":[{\"id\":\"14192\"}],\"center\":[{\"id\":\"14194\"},{\"id\":\"14198\"}],\"left\":[{\"id\":\"14195\"}],\"margin\":[5,5,5,5],\"min_border_bottom\":10,\"min_border_left\":10,\"min_border_right\":10,\"min_border_top\":10,\"plot_height\":300,\"plot_width\":500,\"renderers\":[{\"id\":\"14219\"}],\"sizing_mode\":\"fixed\",\"title\":{\"id\":\"14184\"},\"toolbar\":{\"id\":\"14205\"},\"x_range\":{\"id\":\"14180\"},\"x_scale\":{\"id\":\"14188\"},\"y_range\":{\"id\":\"14181\"},\"y_scale\":{\"id\":\"14190\"}},\"id\":\"14183\",\"subtype\":\"Figure\",\"type\":\"Plot\"},{\"attributes\":{\"callback\":null,\"renderers\":[{\"id\":\"14021\"}],\"tags\":[\"hv_created\"],\"tooltips\":[[\"year\",\"@{year}\"],[\"sale_price_sqr_foot\",\"@{sale_price_sqr_foot}\"]]},\"id\":\"13984\",\"type\":\"HoverTool\"},{\"attributes\":{\"fill_color\":{\"value\":\"#1f77b3\"},\"top\":{\"field\":\"sale_price_sqr_foot\"},\"width\":{\"value\":0.8},\"x\":{\"field\":\"neighborhood\"}},\"id\":\"14153\",\"type\":\"VBar\"},{\"attributes\":{\"callback\":null,\"renderers\":[{\"id\":\"14087\"}],\"tags\":[\"hv_created\"],\"tooltips\":[[\"year\",\"@{year}\"],[\"sale_price_sqr_foot\",\"@{sale_price_sqr_foot}\"]]},\"id\":\"14050\",\"type\":\"HoverTool\"},{\"attributes\":{},\"id\":\"14190\",\"type\":\"LinearScale\"},{\"attributes\":{\"data\":{\"sale_price_sqr_foot\":{\"__ndarray__\":\"tQKjeIIVd0Do7CdydF51QGdijk899nhAaBKk2Jo5fkDGKCTbN2KBQPETFqRSxINAUB33UCbNhUA=\",\"dtype\":\"float64\",\"order\":\"little\",\"shape\":[7]},\"year\":[2010,2011,2012,2013,2014,2015,2016]},\"selected\":{\"id\":\"14016\"},\"selection_policy\":{\"id\":\"14035\"}},\"id\":\"14015\",\"type\":\"ColumnDataSource\"},{\"attributes\":{\"end\":2016.0,\"reset_end\":2016.0,\"reset_start\":2010.0,\"start\":2010.0,\"tags\":[[[\"year\",\"year\",null]]]},\"id\":\"13982\",\"type\":\"Range1d\"},{\"attributes\":{\"axis_label\":\"Years\",\"bounds\":\"auto\",\"formatter\":{\"id\":\"14222\"},\"major_label_orientation\":1.5707963267948966,\"ticker\":{\"id\":\"14193\"}},\"id\":\"14192\",\"type\":\"CategoricalAxis\"},{\"attributes\":{\"children\":[{\"id\":\"14252\"},{\"id\":\"14254\"},{\"id\":\"14256\"}],\"margin\":[0,0,0,0],\"name\":\"Column30604\"},\"id\":\"14251\",\"type\":\"Column\"},{\"attributes\":{},\"id\":\"13928\",\"type\":\"LinearScale\"},{\"attributes\":{\"children\":[{\"id\":\"14116\"}],\"css_classes\":[\"panel-widget-box\"],\"margin\":[5,5,5,5],\"name\":\"WidgetBox30576\"},\"id\":\"14115\",\"type\":\"Column\"},{\"attributes\":{},\"id\":\"14188\",\"type\":\"CategoricalScale\"},{\"attributes\":{\"factors\":[\"Union Square District\",\"Merced Heights\",\"Miraloma Park\",\"Pacific Heights\",\"Westwood Park\",\"Telegraph Hill\",\"Presidio Heights\",\"Cow Hollow\",\"Potrero Hill\",\"South Beach\"],\"tags\":[[[\"neighborhood\",\"neighborhood\",null]]]},\"id\":\"14118\",\"type\":\"FactorRange\"},{\"attributes\":{},\"id\":\"14268\",\"type\":\"UnionRenderers\"},{\"attributes\":{\"fill_alpha\":{\"value\":0.2},\"fill_color\":{\"field\":\"Variable\",\"transform\":{\"id\":\"14212\"}},\"line_alpha\":{\"value\":0.2},\"top\":{\"field\":\"value\"},\"width\":{\"value\":0.8},\"x\":{\"field\":\"xoffsets\"}},\"id\":\"14218\",\"type\":\"VBar\"},{\"attributes\":{},\"id\":\"14237\",\"type\":\"UnionRenderers\"},{\"attributes\":{\"css_classes\":[\"markdown\"],\"margin\":[5,5,5,5],\"name\":\"Markdown30610\",\"text\":\"&lt;h2&gt;Summary of most expensive neighborhoods by year&lt;/h2&gt;\"},\"id\":\"14259\",\"type\":\"panel.models.markup.HTML\"},{\"attributes\":{\"_render_count\":0,\"config\":null,\"data\":[{\"dimensions\":[{\"label\":\"year\"},{\"label\":\"sale_price_sqr_foot\"},{\"label\":\"housing_units\"},{\"label\":\"gross_rent\"}],\"domain\":{\"x\":[0.0,1.0],\"y\":[0.0,1.0]},\"line\":{\"coloraxis\":\"coloraxis\"},\"name\":\"\",\"type\":\"parcoords\"}],\"data_sources\":[{\"id\":\"14255\"}],\"layout\":{\"coloraxis\":{\"colorbar\":{\"title\":{\"text\":\"sale_price_sqr_foot\"}},\"colorscale\":[[0.0,\"rgb(36, 86, 104)\"],[0.16666666666666666,\"rgb(15, 114, 121)\"],[0.3333333333333333,\"rgb(13, 143, 129)\"],[0.5,\"rgb(57, 171, 126)\"],[0.6666666666666666,\"rgb(110, 197, 116)\"],[0.8333333333333334,\"rgb(169, 220, 103)\"],[1.0,\"rgb(237, 239, 93)\"]]},\"legend\":{\"tracegroupgap\":0},\"template\":{\"data\":{\"bar\":[{\"error_x\":{\"color\":\"#2a3f5f\"},\"error_y\":{\"color\":\"#2a3f5f\"},\"marker\":{\"line\":{\"color\":\"#E5ECF6\",\"width\":0.5}},\"type\":\"bar\"}],\"barpolar\":[{\"marker\":{\"line\":{\"color\":\"#E5ECF6\",\"width\":0.5}},\"type\":\"barpolar\"}],\"carpet\":[{\"aaxis\":{\"endlinecolor\":\"#2a3f5f\",\"gridcolor\":\"white\",\"linecolor\":\"white\",\"minorgridcolor\":\"white\",\"startlinecolor\":\"#2a3f5f\"},\"baxis\":{\"endlinecolor\":\"#2a3f5f\",\"gridcolor\":\"white\",\"linecolor\":\"white\",\"minorgridcolor\":\"white\",\"startlinecolor\":\"#2a3f5f\"},\"type\":\"carpet\"}],\"choropleth\":[{\"colorbar\":{\"outlinewidth\":0,\"ticks\":\"\"},\"type\":\"choropleth\"}],\"contour\":[{\"colorbar\":{\"outlinewidth\":0,\"ticks\":\"\"},\"colorscale\":[[0.0,\"#0d0887\"],[0.1111111111111111,\"#46039f\"],[0.2222222222222222,\"#7201a8\"],[0.3333333333333333,\"#9c179e\"],[0.4444444444444444,\"#bd3786\"],[0.5555555555555556,\"#d8576b\"],[0.6666666666666666,\"#ed7953\"],[0.7777777777777778,\"#fb9f3a\"],[0.8888888888888888,\"#fdca26\"],[1.0,\"#f0f921\"]],\"type\":\"contour\"}],\"contourcarpet\":[{\"colorbar\":{\"outlinewidth\":0,\"ticks\":\"\"},\"type\":\"contourcarpet\"}],\"heatmap\":[{\"colorbar\":{\"outlinewidth\":0,\"ticks\":\"\"},\"colorscale\":[[0.0,\"#0d0887\"],[0.1111111111111111,\"#46039f\"],[0.2222222222222222,\"#7201a8\"],[0.3333333333333333,\"#9c179e\"],[0.4444444444444444,\"#bd3786\"],[0.5555555555555556,\"#d8576b\"],[0.6666666666666666,\"#ed7953\"],[0.7777777777777778,\"#fb9f3a\"],[0.8888888888888888,\"#fdca26\"],[1.0,\"#f0f921\"]],\"type\":\"heatmap\"}],\"heatmapgl\":[{\"colorbar\":{\"outlinewidth\":0,\"ticks\":\"\"},\"colorscale\":[[0.0,\"#0d0887\"],[0.1111111111111111,\"#46039f\"],[0.2222222222222222,\"#7201a8\"],[0.3333333333333333,\"#9c179e\"],[0.4444444444444444,\"#bd3786\"],[0.5555555555555556,\"#d8576b\"],[0.6666666666666666,\"#ed7953\"],[0.7777777777777778,\"#fb9f3a\"],[0.8888888888888888,\"#fdca26\"],[1.0,\"#f0f921\"]],\"type\":\"heatmapgl\"}],\"histogram\":[{\"marker\":{\"colorbar\":{\"outlinewidth\":0,\"ticks\":\"\"}},\"type\":\"histogram\"}],\"histogram2d\":[{\"colorbar\":{\"outlinewidth\":0,\"ticks\":\"\"},\"colorscale\":[[0.0,\"#0d0887\"],[0.1111111111111111,\"#46039f\"],[0.2222222222222222,\"#7201a8\"],[0.3333333333333333,\"#9c179e\"],[0.4444444444444444,\"#bd3786\"],[0.5555555555555556,\"#d8576b\"],[0.6666666666666666,\"#ed7953\"],[0.7777777777777778,\"#fb9f3a\"],[0.8888888888888888,\"#fdca26\"],[1.0,\"#f0f921\"]],\"type\":\"histogram2d\"}],\"histogram2dcontour\":[{\"colorbar\":{\"outlinewidth\":0,\"ticks\":\"\"},\"colorscale\":[[0.0,\"#0d0887\"],[0.1111111111111111,\"#46039f\"],[0.2222222222222222,\"#7201a8\"],[0.3333333333333333,\"#9c179e\"],[0.4444444444444444,\"#bd3786\"],[0.5555555555555556,\"#d8576b\"],[0.6666666666666666,\"#ed7953\"],[0.7777777777777778,\"#fb9f3a\"],[0.8888888888888888,\"#fdca26\"],[1.0,\"#f0f921\"]],\"type\":\"histogram2dcontour\"}],\"mesh3d\":[{\"colorbar\":{\"outlinewidth\":0,\"ticks\":\"\"},\"type\":\"mesh3d\"}],\"parcoords\":[{\"line\":{\"colorbar\":{\"outlinewidth\":0,\"ticks\":\"\"}},\"type\":\"parcoords\"}],\"pie\":[{\"automargin\":true,\"type\":\"pie\"}],\"scatter\":[{\"marker\":{\"colorbar\":{\"outlinewidth\":0,\"ticks\":\"\"}},\"type\":\"scatter\"}],\"scatter3d\":[{\"line\":{\"colorbar\":{\"outlinewidth\":0,\"ticks\":\"\"}},\"marker\":{\"colorbar\":{\"outlinewidth\":0,\"ticks\":\"\"}},\"type\":\"scatter3d\"}],\"scattercarpet\":[{\"marker\":{\"colorbar\":{\"outlinewidth\":0,\"ticks\":\"\"}},\"type\":\"scattercarpet\"}],\"scattergeo\":[{\"marker\":{\"colorbar\":{\"outlinewidth\":0,\"ticks\":\"\"}},\"type\":\"scattergeo\"}],\"scattergl\":[{\"marker\":{\"colorbar\":{\"outlinewidth\":0,\"ticks\":\"\"}},\"type\":\"scattergl\"}],\"scattermapbox\":[{\"marker\":{\"colorbar\":{\"outlinewidth\":0,\"ticks\":\"\"}},\"type\":\"scattermapbox\"}],\"scatterpolar\":[{\"marker\":{\"colorbar\":{\"outlinewidth\":0,\"ticks\":\"\"}},\"type\":\"scatterpolar\"}],\"scatterpolargl\":[{\"marker\":{\"colorbar\":{\"outlinewidth\":0,\"ticks\":\"\"}},\"type\":\"scatterpolargl\"}],\"scatterternary\":[{\"marker\":{\"colorbar\":{\"outlinewidth\":0,\"ticks\":\"\"}},\"type\":\"scatterternary\"}],\"surface\":[{\"colorbar\":{\"outlinewidth\":0,\"ticks\":\"\"},\"colorscale\":[[0.0,\"#0d0887\"],[0.1111111111111111,\"#46039f\"],[0.2222222222222222,\"#7201a8\"],[0.3333333333333333,\"#9c179e\"],[0.4444444444444444,\"#bd3786\"],[0.5555555555555556,\"#d8576b\"],[0.6666666666666666,\"#ed7953\"],[0.7777777777777778,\"#fb9f3a\"],[0.8888888888888888,\"#fdca26\"],[1.0,\"#f0f921\"]],\"type\":\"surface\"}],\"table\":[{\"cells\":{\"fill\":{\"color\":\"#EBF0F8\"},\"line\":{\"color\":\"white\"}},\"header\":{\"fill\":{\"color\":\"#C8D4E3\"},\"line\":{\"color\":\"white\"}},\"type\":\"table\"}]},\"layout\":{\"annotationdefaults\":{\"arrowcolor\":\"#2a3f5f\",\"arrowhead\":0,\"arrowwidth\":1},\"autotypenumbers\":\"strict\",\"coloraxis\":{\"colorbar\":{\"outlinewidth\":0,\"ticks\":\"\"}},\"colorscale\":{\"diverging\":[[0,\"#8e0152\"],[0.1,\"#c51b7d\"],[0.2,\"#de77ae\"],[0.3,\"#f1b6da\"],[0.4,\"#fde0ef\"],[0.5,\"#f7f7f7\"],[0.6,\"#e6f5d0\"],[0.7,\"#b8e186\"],[0.8,\"#7fbc41\"],[0.9,\"#4d9221\"],[1,\"#276419\"]],\"sequential\":[[0.0,\"#0d0887\"],[0.1111111111111111,\"#46039f\"],[0.2222222222222222,\"#7201a8\"],[0.3333333333333333,\"#9c179e\"],[0.4444444444444444,\"#bd3786\"],[0.5555555555555556,\"#d8576b\"],[0.6666666666666666,\"#ed7953\"],[0.7777777777777778,\"#fb9f3a\"],[0.8888888888888888,\"#fdca26\"],[1.0,\"#f0f921\"]],\"sequentialminus\":[[0.0,\"#0d0887\"],[0.1111111111111111,\"#46039f\"],[0.2222222222222222,\"#7201a8\"],[0.3333333333333333,\"#9c179e\"],[0.4444444444444444,\"#bd3786\"],[0.5555555555555556,\"#d8576b\"],[0.6666666666666666,\"#ed7953\"],[0.7777777777777778,\"#fb9f3a\"],[0.8888888888888888,\"#fdca26\"],[1.0,\"#f0f921\"]]},\"colorway\":[\"#636efa\",\"#EF553B\",\"#00cc96\",\"#ab63fa\",\"#FFA15A\",\"#19d3f3\",\"#FF6692\",\"#B6E880\",\"#FF97FF\",\"#FECB52\"],\"font\":{\"color\":\"#2a3f5f\"},\"geo\":{\"bgcolor\":\"white\",\"lakecolor\":\"white\",\"landcolor\":\"#E5ECF6\",\"showlakes\":true,\"showland\":true,\"subunitcolor\":\"white\"},\"hoverlabel\":{\"align\":\"left\"},\"hovermode\":\"closest\",\"mapbox\":{\"style\":\"light\"},\"paper_bgcolor\":\"white\",\"plot_bgcolor\":\"#E5ECF6\",\"polar\":{\"angularaxis\":{\"gridcolor\":\"white\",\"linecolor\":\"white\",\"ticks\":\"\"},\"bgcolor\":\"#E5ECF6\",\"radialaxis\":{\"gridcolor\":\"white\",\"linecolor\":\"white\",\"ticks\":\"\"}},\"scene\":{\"xaxis\":{\"backgroundcolor\":\"#E5ECF6\",\"gridcolor\":\"white\",\"gridwidth\":2,\"linecolor\":\"white\",\"showbackground\":true,\"ticks\":\"\",\"zerolinecolor\":\"white\"},\"yaxis\":{\"backgroundcolor\":\"#E5ECF6\",\"gridcolor\":\"white\",\"gridwidth\":2,\"linecolor\":\"white\",\"showbackground\":true,\"ticks\":\"\",\"zerolinecolor\":\"white\"},\"zaxis\":{\"backgroundcolor\":\"#E5ECF6\",\"gridcolor\":\"white\",\"gridwidth\":2,\"linecolor\":\"white\",\"showbackground\":true,\"ticks\":\"\",\"zerolinecolor\":\"white\"}},\"shapedefaults\":{\"line\":{\"color\":\"#2a3f5f\"}},\"ternary\":{\"aaxis\":{\"gridcolor\":\"white\",\"linecolor\":\"white\",\"ticks\":\"\"},\"baxis\":{\"gridcolor\":\"white\",\"linecolor\":\"white\",\"ticks\":\"\"},\"bgcolor\":\"#E5ECF6\",\"caxis\":{\"gridcolor\":\"white\",\"linecolor\":\"white\",\"ticks\":\"\"}},\"title\":{\"x\":0.05},\"xaxis\":{\"automargin\":true,\"gridcolor\":\"white\",\"linecolor\":\"white\",\"ticks\":\"\",\"title\":{\"standoff\":15},\"zerolinecolor\":\"white\",\"zerolinewidth\":2},\"yaxis\":{\"automargin\":true,\"gridcolor\":\"white\",\"linecolor\":\"white\",\"ticks\":\"\",\"title\":{\"standoff\":15},\"zerolinecolor\":\"white\",\"zerolinewidth\":2}}},\"title\":{\"text\":\"SFO Neighborhoods Parallel Coordinates Analysis\"},\"width\":1500},\"margin\":[5,5,5,5],\"name\":\"Plotly30602\",\"viewport_update_throttle\":200},\"id\":\"14256\",\"type\":\"panel.models.plotly.PlotlyPlot\"},{\"attributes\":{\"data_source\":{\"id\":\"14213\"},\"glyph\":{\"id\":\"14216\"},\"hover_glyph\":null,\"muted_glyph\":{\"id\":\"14218\"},\"nonselection_glyph\":{\"id\":\"14217\"},\"selection_glyph\":null,\"view\":{\"id\":\"14220\"}},\"id\":\"14219\",\"type\":\"GlyphRenderer\"},{\"attributes\":{},\"id\":\"14193\",\"type\":\"CategoricalTicker\"},{\"attributes\":{},\"id\":\"14082\",\"type\":\"Selection\"},{\"attributes\":{\"data\":{\"sale_price_sqr_foot\":{\"__ndarray__\":\"Dkc7WO0yckCafszcbwhxQIGRs5ot42ZAJzog0LQ8eEAWMinKGEd+QI0V5FDt0IJAVCHcmLVPdUA=\",\"dtype\":\"float64\",\"order\":\"little\",\"shape\":[7]},\"year\":[2010,2011,2012,2013,2014,2015,2016]},\"selected\":{\"id\":\"14082\"},\"selection_policy\":{\"id\":\"14105\"}},\"id\":\"14081\",\"type\":\"ColumnDataSource\"},{\"attributes\":{},\"id\":\"14267\",\"type\":\"Selection\"},{\"attributes\":{\"callback\":null,\"renderers\":[{\"id\":\"14156\"}],\"tags\":[\"hv_created\"],\"tooltips\":[[\"neighborhood\",\"@{neighborhood}\"],[\"sale_price_sqr_foot\",\"@{sale_price_sqr_foot}\"]]},\"id\":\"14120\",\"type\":\"HoverTool\"},{\"attributes\":{\"axis\":{\"id\":\"14195\"},\"dimension\":1,\"grid_line_color\":null,\"ticker\":null},\"id\":\"14198\",\"type\":\"Grid\"},{\"attributes\":{\"line_color\":\"#1f77b3\",\"line_width\":2,\"x\":{\"field\":\"year\"},\"y\":{\"field\":\"sale_price_sqr_foot\"}},\"id\":\"14084\",\"type\":\"Line\"},{\"attributes\":{\"below\":[{\"id\":\"14060\"}],\"center\":[{\"id\":\"14063\"},{\"id\":\"14067\"}],\"left\":[{\"id\":\"14064\"}],\"margin\":[5,5,5,5],\"min_border_bottom\":10,\"min_border_left\":10,\"min_border_right\":10,\"min_border_top\":10,\"plot_height\":300,\"plot_width\":500,\"renderers\":[{\"id\":\"14087\"}],\"sizing_mode\":\"fixed\",\"title\":{\"id\":\"14052\"},\"toolbar\":{\"id\":\"14074\"},\"x_range\":{\"id\":\"14048\"},\"x_scale\":{\"id\":\"14056\"},\"y_range\":{\"id\":\"13983\"},\"y_scale\":{\"id\":\"14058\"}},\"id\":\"14051\",\"subtype\":\"Figure\",\"type\":\"Plot\"},{\"attributes\":{\"axis\":{\"id\":\"14192\"},\"grid_line_color\":null,\"ticker\":null},\"id\":\"14194\",\"type\":\"Grid\"},{\"attributes\":{},\"id\":\"14283\",\"type\":\"Selection\"},{\"attributes\":{},\"id\":\"14196\",\"type\":\"BasicTicker\"},{\"attributes\":{\"axis_label\":\"Num Housing Units\",\"bounds\":\"auto\",\"formatter\":{\"id\":\"14221\"},\"major_label_orientation\":\"horizontal\",\"ticker\":{\"id\":\"14196\"}},\"id\":\"14195\",\"type\":\"LinearAxis\"},{\"attributes\":{},\"id\":\"14128\",\"type\":\"LinearScale\"},{\"attributes\":{\"axis_label\":\"Year\",\"bounds\":\"auto\",\"formatter\":{\"id\":\"14090\"},\"major_label_orientation\":\"horizontal\",\"ticker\":{\"id\":\"14061\"}},\"id\":\"14060\",\"type\":\"LinearAxis\"},{\"attributes\":{\"fill_alpha\":{\"value\":0.1},\"fill_color\":{\"field\":\"Variable\",\"transform\":{\"id\":\"14212\"}},\"line_alpha\":{\"value\":0.1},\"top\":{\"field\":\"value\"},\"width\":{\"value\":0.8},\"x\":{\"field\":\"xoffsets\"}},\"id\":\"14217\",\"type\":\"VBar\"},{\"attributes\":{\"callback\":null,\"renderers\":[{\"id\":\"13959\"}],\"tags\":[\"hv_created\"],\"tooltips\":[[\"year\",\"@{year}\"],[\"gross_rent\",\"@{gross_rent}\"]]},\"id\":\"13922\",\"type\":\"HoverTool\"},{\"attributes\":{},\"id\":\"14284\",\"type\":\"UnionRenderers\"},{\"attributes\":{},\"id\":\"14056\",\"type\":\"LinearScale\"},{\"attributes\":{},\"id\":\"14285\",\"type\":\"Selection\"},{\"attributes\":{\"child\":{\"id\":\"14258\"},\"name\":\"Column30614\",\"title\":\"Summary\"},\"id\":\"14262\",\"type\":\"Panel\"},{\"attributes\":{\"css_classes\":[\"markdown\"],\"margin\":[5,5,5,5],\"name\":\"Markdown30605\",\"text\":\"&lt;h2&gt;Neighborhood Map&lt;/h2&gt;\"},\"id\":\"13853\",\"type\":\"panel.models.markup.HTML\"},{\"attributes\":{},\"id\":\"14286\",\"type\":\"UnionRenderers\"},{\"attributes\":{},\"id\":\"14061\",\"type\":\"BasicTicker\"},{\"attributes\":{\"children\":[{\"id\":\"14183\"},{\"id\":\"14246\"}],\"margin\":[0,0,0,0],\"name\":\"Row30589\"},\"id\":\"14179\",\"type\":\"Row\"},{\"attributes\":{\"text\":\"Top 10 Most Expensive Neighborhoods in SFO\",\"text_color\":{\"value\":\"black\"},\"text_font_size\":{\"value\":\"12pt\"}},\"id\":\"14122\",\"type\":\"Title\"},{\"attributes\":{},\"id\":\"13930\",\"type\":\"LinearScale\"},{\"attributes\":{},\"id\":\"14058\",\"type\":\"LinearScale\"},{\"attributes\":{},\"id\":\"14287\",\"type\":\"Selection\"},{\"attributes\":{},\"id\":\"14199\",\"type\":\"SaveTool\"},{\"attributes\":{},\"id\":\"14126\",\"type\":\"CategoricalScale\"},{\"attributes\":{\"line_color\":\"#1f77b3\",\"line_width\":2,\"x\":{\"field\":\"year\"},\"y\":{\"field\":\"gross_rent\"}},\"id\":\"13956\",\"type\":\"Line\"},{\"attributes\":{\"axis\":{\"id\":\"14060\"},\"grid_line_color\":null,\"ticker\":null},\"id\":\"14063\",\"type\":\"Grid\"},{\"attributes\":{\"fill_color\":{\"field\":\"Variable\",\"transform\":{\"id\":\"14212\"}},\"top\":{\"field\":\"value\"},\"width\":{\"value\":0.8},\"x\":{\"field\":\"xoffsets\"}},\"id\":\"14216\",\"type\":\"VBar\"},{\"attributes\":{},\"id\":\"14288\",\"type\":\"UnionRenderers\"},{\"attributes\":{\"source\":{\"id\":\"14213\"}},\"id\":\"14220\",\"type\":\"CDSView\"},{\"attributes\":{},\"id\":\"14200\",\"type\":\"PanTool\"},{\"attributes\":{\"text\":\"Average Price by Neighborhood\",\"text_color\":{\"value\":\"black\"},\"text_font_size\":{\"value\":\"12pt\"}},\"id\":\"14052\",\"type\":\"Title\"},{\"attributes\":{\"format\":\"%.0f\"},\"id\":\"14221\",\"type\":\"PrintfTickFormatter\"}],\"root_ids\":[\"13848\",\"14413\"]},\"title\":\"Bokeh Application\",\"version\":\"2.2.3\"}};\n",
       "    var render_items = [{\"docid\":\"3b04efd6-f1b6-4d2d-8717-0ee433f21ccf\",\"root_ids\":[\"13848\"],\"roots\":{\"13848\":\"0c437dbc-6454-40f6-b56b-370f5899248c\"}}];\n",
       "    root.Bokeh.embed.embed_items_notebook(docs_json, render_items);\n",
       "  }\n",
       "  if (root.Bokeh !== undefined && root.Bokeh.Panel !== undefined && root['Plotly'] !== undefined ) {\n",
       "    embed_document(root);\n",
       "  } else {\n",
       "    var attempts = 0;\n",
       "    var timer = setInterval(function(root) {\n",
       "      if (root.Bokeh !== undefined && root.Bokeh.Panel !== undefined && root['Plotly'] !== undefined) {\n",
       "        clearInterval(timer);\n",
       "        embed_document(root);\n",
       "      } else if (document.readyState == \"complete\") {\n",
       "        attempts++;\n",
       "        if (attempts > 100) {\n",
       "          clearInterval(timer);\n",
       "          console.log(\"Bokeh: ERROR: Unable to run BokehJS code because BokehJS library is missing\");\n",
       "        }\n",
       "      }\n",
       "    }, 10, root)\n",
       "  }\n",
       "})(window);</script>"
      ],
      "text/plain": [
       "Tabs\n",
       "    [0] Column\n",
       "        [0] Markdown(str)\n",
       "    [1] Column\n",
       "        [0] Markdown(str)\n",
       "        [1] Plotly(Figure)\n",
       "    [2] Column\n",
       "        [0] Markdown(str)\n",
       "        [1] HoloViews(Bars)\n",
       "        [2] HoloViews(Curve)\n",
       "        [3] HoloViews(Curve)\n",
       "    [3] Column\n",
       "        [0] Markdown(str)\n",
       "        [1] Row\n",
       "            [0] HoloViews(DynamicMap)\n",
       "            [1] Column\n",
       "                [0] WidgetBox\n",
       "                    [0] Select(margin=(20, 20, 20, 20), name='neighborhood', options=['Alamo Square', ...], value='Alamo Square', width=250)\n",
       "                [1] VSpacer()\n",
       "        [2] HoloViews(Bars)\n",
       "        [3] Row\n",
       "            [0] HoloViews(DynamicMap)\n",
       "            [1] Column\n",
       "                [0] WidgetBox\n",
       "                    [0] Select(margin=(20, 20, 20, 20), name='neighborhood', options=['Alamo Square', ...], value='Alamo Square', width=250)\n",
       "                [1] VSpacer()\n",
       "    [4] Column\n",
       "        [0] Markdown(str)\n",
       "        [1] Plotly(Figure)\n",
       "        [2] Plotly(Figure)\n",
       "    [5] Column\n",
       "        [0] Markdown(str)\n",
       "        [1] Plotly(Figure)"
      ]
     },
     "execution_count": 380,
     "metadata": {
      "application/vnd.holoviews_exec.v0+json": {
       "id": "13848"
      }
     },
     "output_type": "execute_result"
    }
   ],
   "source": [
    "# Serve the# dashboard\n",
    "SFO_housing_dashboard.servable()"
   ]
  },
  {
   "cell_type": "markdown",
   "metadata": {},
   "source": [
    "# Debugging\n",
    "\n",
    "Note: Some of the Plotly express plots may not render in the notebook through the panel functions.\n",
    "\n",
    "However, you can test each plot by uncommenting the following code"
   ]
  },
  {
   "cell_type": "code",
   "execution_count": 338,
   "metadata": {},
   "outputs": [],
   "source": [
    "#housing_units_per_year()"
   ]
  },
  {
   "cell_type": "code",
   "execution_count": 339,
   "metadata": {},
   "outputs": [],
   "source": [
    "#average_gross_rent()"
   ]
  },
  {
   "cell_type": "code",
   "execution_count": 340,
   "metadata": {},
   "outputs": [],
   "source": [
    "#average_sales_price()"
   ]
  },
  {
   "cell_type": "code",
   "execution_count": 341,
   "metadata": {},
   "outputs": [],
   "source": [
    "#average_price_by_neighborhood()"
   ]
  },
  {
   "cell_type": "code",
   "execution_count": 342,
   "metadata": {},
   "outputs": [],
   "source": [
    "#top_most_expensive_neighborhoods()"
   ]
  },
  {
   "cell_type": "code",
   "execution_count": 361,
   "metadata": {},
   "outputs": [],
   "source": [
    "#most_expensive_neighborhoods_rent_sales()"
   ]
  },
  {
   "cell_type": "code",
   "execution_count": 343,
   "metadata": {},
   "outputs": [],
   "source": [
    "#neighborhood_map().show()"
   ]
  },
  {
   "cell_type": "code",
   "execution_count": 344,
   "metadata": {},
   "outputs": [],
   "source": [
    "#parallel_categories()"
   ]
  },
  {
   "cell_type": "code",
   "execution_count": 345,
   "metadata": {},
   "outputs": [],
   "source": [
    "#parallel_coordinates()"
   ]
  },
  {
   "cell_type": "code",
   "execution_count": 346,
   "metadata": {},
   "outputs": [],
   "source": [
    "#sunburst()"
   ]
  }
 ],
 "metadata": {
  "file_extension": ".py",
  "kernelspec": {
   "display_name": "Python 3",
   "language": "python",
   "name": "python3"
  },
  "language_info": {
   "codemirror_mode": {
    "name": "ipython",
    "version": 3
   },
   "file_extension": ".py",
   "mimetype": "text/x-python",
   "name": "python",
   "nbconvert_exporter": "python",
   "pygments_lexer": "ipython3",
   "version": "3.7.9"
  },
  "mimetype": "text/x-python",
  "name": "python",
  "npconvert_exporter": "python",
  "pygments_lexer": "ipython3",
  "version": 3
 },
 "nbformat": 4,
 "nbformat_minor": 4
}
